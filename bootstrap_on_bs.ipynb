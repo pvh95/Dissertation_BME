{
  "nbformat": 4,
  "nbformat_minor": 0,
  "metadata": {
    "interpreter": {
      "hash": "e7370f93d1d0cde622a1f8e1c04877d8463912d04d973331ad4851f04de6915a"
    },
    "kernelspec": {
      "display_name": "Python 3 (ipykernel)",
      "language": "python",
      "name": "python3"
    },
    "language_info": {
      "codemirror_mode": {
        "name": "ipython",
        "version": 3
      },
      "file_extension": ".py",
      "mimetype": "text/x-python",
      "name": "python",
      "nbconvert_exporter": "python",
      "pygments_lexer": "ipython3",
      "version": "3.8.10"
    },
    "colab": {
      "name": "bootstrap_on_bs.ipynb",
      "provenance": [],
      "collapsed_sections": [],
      "include_colab_link": true
    }
  },
  "cells": [
    {
      "cell_type": "markdown",
      "metadata": {
        "id": "view-in-github",
        "colab_type": "text"
      },
      "source": [
        "<a href=\"https://colab.research.google.com/github/pvh95/Temalabor2/blob/main/bootstrap_on_bs.ipynb\" target=\"_parent\"><img src=\"https://colab.research.google.com/assets/colab-badge.svg\" alt=\"Open In Colab\"/></a>"
      ]
    },
    {
      "cell_type": "code",
      "metadata": {
        "colab": {
          "base_uri": "https://localhost:8080/"
        },
        "id": "wDRVyD2ac211",
        "outputId": "3f2b454b-43e0-426d-f052-38711ac23471"
      },
      "source": [
        "from google.colab import files\n",
        "from google.colab import drive  \n",
        "drive.mount('/content/gdrive/')"
      ],
      "execution_count": 99,
      "outputs": [
        {
          "output_type": "stream",
          "name": "stdout",
          "text": [
            "Drive already mounted at /content/gdrive/; to attempt to forcibly remount, call drive.mount(\"/content/gdrive/\", force_remount=True).\n"
          ]
        }
      ]
    },
    {
      "cell_type": "code",
      "metadata": {
        "id": "_V9UgeY8cEYv"
      },
      "source": [
        "import numpy as np \n",
        "import pandas as pd\n",
        "import random \n",
        "from prettytable import PrettyTable\n",
        "import matplotlib.pyplot as plt\n",
        "import seaborn as sns\n",
        "import statsmodels.api as sm"
      ],
      "execution_count": 100,
      "outputs": []
    },
    {
      "cell_type": "code",
      "metadata": {
        "colab": {
          "base_uri": "https://localhost:8080/"
        },
        "id": "sHRbmZsqdlL2",
        "outputId": "99cec62f-96aa-4eb0-f01c-07b53487a0d9"
      },
      "source": [
        "df = pd.read_csv('/content/gdrive/MyDrive/Dissertation_CEU_BME/balance2018.csv')"
      ],
      "execution_count": 101,
      "outputs": [
        {
          "output_type": "stream",
          "name": "stderr",
          "text": [
            "/usr/local/lib/python3.7/dist-packages/IPython/core/interactiveshell.py:2718: DtypeWarning: Columns (66) have mixed types.Specify dtype option on import or set low_memory=False.\n",
            "  interactivity=interactivity, compiler=compiler, result=result)\n"
          ]
        }
      ]
    },
    {
      "cell_type": "code",
      "source": [
        "df = df[df['sales_clean'] != 0]\n",
        "df = df[['sales_clean', 'tanass_clean', 'tax']]"
      ],
      "metadata": {
        "id": "8Oi9YNBttH5E"
      },
      "execution_count": 102,
      "outputs": []
    },
    {
      "cell_type": "code",
      "metadata": {
        "colab": {
          "base_uri": "https://localhost:8080/"
        },
        "id": "f6VaFfp8e9mh",
        "outputId": "7c292a93-bdba-423f-8100-e49c25db6af5"
      },
      "source": [
        "len(df)"
      ],
      "execution_count": 103,
      "outputs": [
        {
          "output_type": "execute_result",
          "data": {
            "text/plain": [
              "332643"
            ]
          },
          "metadata": {},
          "execution_count": 103
        }
      ]
    },
    {
      "cell_type": "code",
      "metadata": {
        "id": "mgHEKFy6fVjk"
      },
      "source": [
        "df = df.dropna(subset=['tanass_clean', 'tax'])"
      ],
      "execution_count": 104,
      "outputs": []
    },
    {
      "cell_type": "code",
      "metadata": {
        "colab": {
          "base_uri": "https://localhost:8080/"
        },
        "id": "mD16Qz70fcwt",
        "outputId": "16583cfb-b262-4584-c028-8203c42af21f"
      },
      "source": [
        "len(df)"
      ],
      "execution_count": 105,
      "outputs": [
        {
          "output_type": "execute_result",
          "data": {
            "text/plain": [
              "332604"
            ]
          },
          "metadata": {},
          "execution_count": 105
        }
      ]
    },
    {
      "cell_type": "code",
      "source": [
        "print('summmary stats for the sales_clean')\n",
        "sum_stat = df['sales_clean'].describe().apply('{0:.3f}'.format)\n",
        "print(sum_stat)"
      ],
      "metadata": {
        "colab": {
          "base_uri": "https://localhost:8080/"
        },
        "id": "UizJkhO-_-cz",
        "outputId": "5241390e-6c3d-4a4a-ec8f-ab85a003d1bb"
      },
      "execution_count": 106,
      "outputs": [
        {
          "output_type": "stream",
          "name": "stdout",
          "text": [
            "summmary stats for the sales_clean\n",
            "count        332604.000\n",
            "mean         314854.888\n",
            "std         8137357.078\n",
            "min               0.537\n",
            "25%            4642.000\n",
            "50%           18034.500\n",
            "75%           70810.250\n",
            "max      2371623338.000\n",
            "Name: sales_clean, dtype: object\n"
          ]
        }
      ]
    },
    {
      "cell_type": "code",
      "source": [
        "print('summmary stats for the tanass_clean')\n",
        "sum_stat = df['tanass_clean'].describe().apply('{0:.3f}'.format)\n",
        "print(sum_stat)"
      ],
      "metadata": {
        "colab": {
          "base_uri": "https://localhost:8080/"
        },
        "id": "hvGiU3_8APSK",
        "outputId": "22b05086-510c-427c-a45d-e3d7f864a127"
      },
      "execution_count": 107,
      "outputs": [
        {
          "output_type": "stream",
          "name": "stdout",
          "text": [
            "summmary stats for the tanass_clean\n",
            "count        332604.000\n",
            "mean         135862.025\n",
            "std        11129327.382\n",
            "min               0.000\n",
            "25%              70.000\n",
            "50%            1695.000\n",
            "75%           13675.250\n",
            "max      6094569000.000\n",
            "Name: tanass_clean, dtype: object\n"
          ]
        }
      ]
    },
    {
      "cell_type": "code",
      "source": [
        "print('summmary stats for the tax')\n",
        "sum_stat = df['tax'].describe().apply('{0:.3f}'.format)\n",
        "print(sum_stat)"
      ],
      "metadata": {
        "colab": {
          "base_uri": "https://localhost:8080/"
        },
        "id": "Id3E6Ft7ARfH",
        "outputId": "649d8bfe-9ed3-4904-94bb-b1ce63d075d6"
      },
      "execution_count": 108,
      "outputs": [
        {
          "output_type": "stream",
          "name": "stdout",
          "text": [
            "summmary stats for the tax\n",
            "count      332604.000\n",
            "mean         1969.049\n",
            "std        118160.019\n",
            "min             0.000\n",
            "25%            18.000\n",
            "50%           114.000\n",
            "75%           576.000\n",
            "max      63639000.000\n",
            "Name: tax, dtype: object\n"
          ]
        }
      ]
    },
    {
      "cell_type": "code",
      "source": [
        "sns.distplot(df[\"sales_clean\"], bins = 30)"
      ],
      "metadata": {
        "colab": {
          "base_uri": "https://localhost:8080/",
          "height": 368
        },
        "id": "4Pb-B2viJpCF",
        "outputId": "5404556d-44b0-4d61-b3d7-f80dd96f1d37"
      },
      "execution_count": 109,
      "outputs": [
        {
          "output_type": "stream",
          "name": "stderr",
          "text": [
            "/usr/local/lib/python3.7/dist-packages/seaborn/distributions.py:2619: FutureWarning: `distplot` is a deprecated function and will be removed in a future version. Please adapt your code to use either `displot` (a figure-level function with similar flexibility) or `histplot` (an axes-level function for histograms).\n",
            "  warnings.warn(msg, FutureWarning)\n"
          ]
        },
        {
          "output_type": "execute_result",
          "data": {
            "text/plain": [
              "<matplotlib.axes._subplots.AxesSubplot at 0x7fcf6b3bbfd0>"
            ]
          },
          "metadata": {},
          "execution_count": 109
        },
        {
          "output_type": "display_data",
          "data": {
            "image/png": "[encoded data removed]",
            "text/plain": [
              "<Figure size 432x288 with 1 Axes>"
            ]
          },
          "metadata": {}
        }
      ]
    },
    {
      "cell_type": "code",
      "source": [
        "logSales = np.log(df[\"sales_clean\"])\n",
        "plt.figure(figsize=(10,7))\n",
        "sns.set(style=\"whitegrid\")\n",
        "sns.distplot(logSales, bins = 30)"
      ],
      "metadata": {
        "colab": {
          "base_uri": "https://localhost:8080/",
          "height": 520
        },
        "id": "qleNwyTlqh3l",
        "outputId": "fd1f104f-2cfd-42ce-8841-49010cf81d0d"
      },
      "execution_count": 110,
      "outputs": [
        {
          "output_type": "stream",
          "name": "stderr",
          "text": [
            "/usr/local/lib/python3.7/dist-packages/seaborn/distributions.py:2619: FutureWarning: `distplot` is a deprecated function and will be removed in a future version. Please adapt your code to use either `displot` (a figure-level function with similar flexibility) or `histplot` (an axes-level function for histograms).\n",
            "  warnings.warn(msg, FutureWarning)\n"
          ]
        },
        {
          "output_type": "execute_result",
          "data": {
            "text/plain": [
              "<matplotlib.axes._subplots.AxesSubplot at 0x7fcf6b1ca110>"
            ]
          },
          "metadata": {},
          "execution_count": 110
        },
        {
          "output_type": "display_data",
          "data": {
            "image/png": "[encoded data removed]",
            "text/plain": [
              "<Figure size 720x504 with 1 Axes>"
            ]
          },
          "metadata": {}
        }
      ]
    },
    {
      "cell_type": "code",
      "source": [
        "from sklearn import preprocessing\n",
        "from sklearn.preprocessing import PowerTransformer\n",
        "trialdf = pd.DataFrame(df, columns= [\"sales_clean\"])\n",
        "pt = preprocessing.PowerTransformer(method='yeo-johnson')\n",
        "modified_sales = pt.fit_transform(trialdf)\n",
        "sns.distplot(modified_sales, bins = 30) "
      ],
      "metadata": {
        "colab": {
          "base_uri": "https://localhost:8080/",
          "height": 340
        },
        "id": "ZWUVorTPMes-",
        "outputId": "a95b7eda-b1e0-4aab-d4f9-c324af9bf3c1"
      },
      "execution_count": 111,
      "outputs": [
        {
          "output_type": "stream",
          "name": "stderr",
          "text": [
            "/usr/local/lib/python3.7/dist-packages/seaborn/distributions.py:2619: FutureWarning: `distplot` is a deprecated function and will be removed in a future version. Please adapt your code to use either `displot` (a figure-level function with similar flexibility) or `histplot` (an axes-level function for histograms).\n",
            "  warnings.warn(msg, FutureWarning)\n"
          ]
        },
        {
          "output_type": "execute_result",
          "data": {
            "text/plain": [
              "<matplotlib.axes._subplots.AxesSubplot at 0x7fcf6a251e90>"
            ]
          },
          "metadata": {},
          "execution_count": 111
        },
        {
          "output_type": "display_data",
          "data": {
            "image/png": "[encoded data removed]",
            "text/plain": [
              "<Figure size 432x288 with 1 Axes>"
            ]
          },
          "metadata": {}
        }
      ]
    },
    {
      "cell_type": "code",
      "source": [
        "from sklearn import preprocessing\n",
        "from sklearn.preprocessing import PowerTransformer\n",
        "trialdf = pd.DataFrame(df, columns= [\"tax\"])\n",
        "pt = preprocessing.PowerTransformer(method='yeo-johnson')\n",
        "modified_tax = pt.fit_transform(trialdf)\n",
        "sns.distplot(modified_tax, bins = 30) "
      ],
      "metadata": {
        "colab": {
          "base_uri": "https://localhost:8080/",
          "height": 343
        },
        "id": "BtLPyJq-rNd2",
        "outputId": "0ebcca67-0114-4975-de11-1dac9764eb09"
      },
      "execution_count": 112,
      "outputs": [
        {
          "output_type": "stream",
          "name": "stderr",
          "text": [
            "/usr/local/lib/python3.7/dist-packages/seaborn/distributions.py:2619: FutureWarning: `distplot` is a deprecated function and will be removed in a future version. Please adapt your code to use either `displot` (a figure-level function with similar flexibility) or `histplot` (an axes-level function for histograms).\n",
            "  warnings.warn(msg, FutureWarning)\n"
          ]
        },
        {
          "output_type": "execute_result",
          "data": {
            "text/plain": [
              "<matplotlib.axes._subplots.AxesSubplot at 0x7fcf6b644290>"
            ]
          },
          "metadata": {},
          "execution_count": 112
        },
        {
          "output_type": "display_data",
          "data": {
            "image/png": "[encoded data removed]",
            "text/plain": [
              "<Figure size 432x288 with 1 Axes>"
            ]
          },
          "metadata": {}
        }
      ]
    },
    {
      "cell_type": "code",
      "source": [
        "from sklearn import preprocessing\n",
        "from sklearn.preprocessing import PowerTransformer\n",
        "trialdf = pd.DataFrame(df, columns= [\"tanass_clean\"])\n",
        "pt = preprocessing.PowerTransformer(method='yeo-johnson')\n",
        "modified_tanass = pt.fit_transform(trialdf)\n",
        "sns.distplot(modified_tanass, bins = 30) "
      ],
      "metadata": {
        "colab": {
          "base_uri": "https://localhost:8080/",
          "height": 340
        },
        "id": "0TLpnEwcJ_39",
        "outputId": "d706dbe7-c494-4758-c33f-d0ebafdc9dad"
      },
      "execution_count": 113,
      "outputs": [
        {
          "output_type": "stream",
          "name": "stderr",
          "text": [
            "/usr/local/lib/python3.7/dist-packages/seaborn/distributions.py:2619: FutureWarning: `distplot` is a deprecated function and will be removed in a future version. Please adapt your code to use either `displot` (a figure-level function with similar flexibility) or `histplot` (an axes-level function for histograms).\n",
            "  warnings.warn(msg, FutureWarning)\n"
          ]
        },
        {
          "output_type": "execute_result",
          "data": {
            "text/plain": [
              "<matplotlib.axes._subplots.AxesSubplot at 0x7fcf69cce150>"
            ]
          },
          "metadata": {},
          "execution_count": 113
        },
        {
          "output_type": "display_data",
          "data": {
            "image/png": "[encoded data removed]",
            "text/plain": [
              "<Figure size 432x288 with 1 Axes>"
            ]
          },
          "metadata": {}
        }
      ]
    },
    {
      "cell_type": "code",
      "source": [
        "pt = preprocessing.PowerTransformer(method='yeo-johnson')\n",
        "array_normed = pt.fit_transform(df)\n",
        "df_normed = pd.DataFrame(array_normed, columns = df.columns, index = df.index)"
      ],
      "metadata": {
        "id": "nFrZM1B09rme"
      },
      "execution_count": 114,
      "outputs": []
    },
    {
      "cell_type": "code",
      "source": [
        "array_normed"
      ],
      "metadata": {
        "colab": {
          "base_uri": "https://localhost:8080/"
        },
        "id": "lnIImcCUFz-K",
        "outputId": "9f5a5493-5a9c-42cb-d9cf-aae1881e517c"
      },
      "execution_count": 115,
      "outputs": [
        {
          "output_type": "execute_result",
          "data": {
            "text/plain": [
              "array([[ 1.29226826,  1.35158472,  1.81267444],\n",
              "       [ 4.58215979,  3.66771009,  4.60482363],\n",
              "       [ 3.37312287,  4.29062238,  2.89718024],\n",
              "       ...,\n",
              "       [-0.83608459, -0.85244298, -0.84549429],\n",
              "       [-1.07025499, -1.49173315,  0.28218889],\n",
              "       [ 0.49840565,  0.83481302, -0.02455371]])"
            ]
          },
          "metadata": {},
          "execution_count": 115
        }
      ]
    },
    {
      "cell_type": "code",
      "source": [
        "df_normed"
      ],
      "metadata": {
        "colab": {
          "base_uri": "https://localhost:8080/",
          "height": 424
        },
        "id": "l5Uy1Dwj-EMH",
        "outputId": "49d89a89-db78-4317-fe80-4dcffc341444"
      },
      "execution_count": 116,
      "outputs": [
        {
          "output_type": "execute_result",
          "data": {
            "text/html": [
              "<div>\n",
              "<style scoped>\n",
              "    .dataframe tbody tr th:only-of-type {\n",
              "        vertical-align: middle;\n",
              "    }\n",
              "\n",
              "    .dataframe tbody tr th {\n",
              "        vertical-align: top;\n",
              "    }\n",
              "\n",
              "    .dataframe thead th {\n",
              "        text-align: right;\n",
              "    }\n",
              "</style>\n",
              "<table border=\"1\" class=\"dataframe\">\n",
              "  <thead>\n",
              "    <tr style=\"text-align: right;\">\n",
              "      <th></th>\n",
              "      <th>sales_clean</th>\n",
              "      <th>tanass_clean</th>\n",
              "      <th>tax</th>\n",
              "    </tr>\n",
              "  </thead>\n",
              "  <tbody>\n",
              "    <tr>\n",
              "      <th>0</th>\n",
              "      <td>1.292268</td>\n",
              "      <td>1.351585</td>\n",
              "      <td>1.812674</td>\n",
              "    </tr>\n",
              "    <tr>\n",
              "      <th>1</th>\n",
              "      <td>4.582160</td>\n",
              "      <td>3.667710</td>\n",
              "      <td>4.604824</td>\n",
              "    </tr>\n",
              "    <tr>\n",
              "      <th>2</th>\n",
              "      <td>3.373123</td>\n",
              "      <td>4.290622</td>\n",
              "      <td>2.897180</td>\n",
              "    </tr>\n",
              "    <tr>\n",
              "      <th>3</th>\n",
              "      <td>-1.440657</td>\n",
              "      <td>2.277608</td>\n",
              "      <td>-1.846307</td>\n",
              "    </tr>\n",
              "    <tr>\n",
              "      <th>4</th>\n",
              "      <td>0.488393</td>\n",
              "      <td>0.872971</td>\n",
              "      <td>1.768322</td>\n",
              "    </tr>\n",
              "    <tr>\n",
              "      <th>...</th>\n",
              "      <td>...</td>\n",
              "      <td>...</td>\n",
              "      <td>...</td>\n",
              "    </tr>\n",
              "    <tr>\n",
              "      <th>420013</th>\n",
              "      <td>0.165346</td>\n",
              "      <td>0.185727</td>\n",
              "      <td>-0.257573</td>\n",
              "    </tr>\n",
              "    <tr>\n",
              "      <th>420014</th>\n",
              "      <td>0.054051</td>\n",
              "      <td>-0.135997</td>\n",
              "      <td>0.061400</td>\n",
              "    </tr>\n",
              "    <tr>\n",
              "      <th>420015</th>\n",
              "      <td>-0.836085</td>\n",
              "      <td>-0.852443</td>\n",
              "      <td>-0.845494</td>\n",
              "    </tr>\n",
              "    <tr>\n",
              "      <th>420016</th>\n",
              "      <td>-1.070255</td>\n",
              "      <td>-1.491733</td>\n",
              "      <td>0.282189</td>\n",
              "    </tr>\n",
              "    <tr>\n",
              "      <th>420017</th>\n",
              "      <td>0.498406</td>\n",
              "      <td>0.834813</td>\n",
              "      <td>-0.024554</td>\n",
              "    </tr>\n",
              "  </tbody>\n",
              "</table>\n",
              "<p>332604 rows × 3 columns</p>\n",
              "</div>"
            ],
            "text/plain": [
              "        sales_clean  tanass_clean       tax\n",
              "0          1.292268      1.351585  1.812674\n",
              "1          4.582160      3.667710  4.604824\n",
              "2          3.373123      4.290622  2.897180\n",
              "3         -1.440657      2.277608 -1.846307\n",
              "4          0.488393      0.872971  1.768322\n",
              "...             ...           ...       ...\n",
              "420013     0.165346      0.185727 -0.257573\n",
              "420014     0.054051     -0.135997  0.061400\n",
              "420015    -0.836085     -0.852443 -0.845494\n",
              "420016    -1.070255     -1.491733  0.282189\n",
              "420017     0.498406      0.834813 -0.024554\n",
              "\n",
              "[332604 rows x 3 columns]"
            ]
          },
          "metadata": {},
          "execution_count": 116
        }
      ]
    },
    {
      "cell_type": "markdown",
      "source": [
        "# Population"
      ],
      "metadata": {
        "id": "-hJiW4lhWqEi"
      }
    },
    {
      "cell_type": "code",
      "source": [
        "print('summmary stats for the normed sales_clean')\n",
        "sum_stat = df_normed['sales_clean'].describe().apply('{0:.3f}'.format)\n",
        "print(sum_stat)"
      ],
      "metadata": {
        "colab": {
          "base_uri": "https://localhost:8080/"
        },
        "id": "ziqktYq_GE9v",
        "outputId": "704420df-2d7d-4de4-8c7e-95933b3f4365"
      },
      "execution_count": 117,
      "outputs": [
        {
          "output_type": "stream",
          "name": "stdout",
          "text": [
            "summmary stats for the normed sales_clean\n",
            "count    332604.000\n",
            "mean         -0.000\n",
            "std           1.000\n",
            "min          -3.799\n",
            "25%          -0.604\n",
            "50%          -0.003\n",
            "75%           0.622\n",
            "max           6.070\n",
            "Name: sales_clean, dtype: object\n"
          ]
        }
      ]
    },
    {
      "cell_type": "code",
      "source": [
        "print('summmary stats for the normed tanass_clean')\n",
        "sum_stat = df_normed['tanass_clean'].describe().apply('{0:.3f}'.format)\n",
        "print(sum_stat)"
      ],
      "metadata": {
        "colab": {
          "base_uri": "https://localhost:8080/"
        },
        "id": "k9jjtF0SGKrO",
        "outputId": "df9e5b87-cb56-426b-b63d-31e67f41b2e2"
      },
      "execution_count": 118,
      "outputs": [
        {
          "output_type": "stream",
          "name": "stdout",
          "text": [
            "summmary stats for the normed tanass_clean\n",
            "count    332604.000\n",
            "mean         -0.000\n",
            "std           1.000\n",
            "min          -1.492\n",
            "25%          -0.643\n",
            "50%           0.124\n",
            "75%           0.703\n",
            "max           6.158\n",
            "Name: tanass_clean, dtype: object\n"
          ]
        }
      ]
    },
    {
      "cell_type": "code",
      "source": [
        "print('summmary stats for the normed tax')\n",
        "sum_stat = df_normed['tax'].describe().apply('{0:.3f}'.format)\n",
        "print(sum_stat)"
      ],
      "metadata": {
        "colab": {
          "base_uri": "https://localhost:8080/"
        },
        "id": "oneMnsAnGOKq",
        "outputId": "f2497b42-71e0-46a9-a6a6-871ab62611b5"
      },
      "execution_count": 119,
      "outputs": [
        {
          "output_type": "stream",
          "name": "stdout",
          "text": [
            "summmary stats for the normed tax\n",
            "count    332604.000\n",
            "mean         -0.000\n",
            "std           1.000\n",
            "min          -1.846\n",
            "25%          -0.694\n",
            "50%           0.037\n",
            "75%           0.710\n",
            "max           6.082\n",
            "Name: tax, dtype: object\n"
          ]
        }
      ]
    },
    {
      "cell_type": "code",
      "source": [
        "X = sm.add_constant(df_normed.iloc[:,1:], prepend = True)\n",
        "ols_model = sm.OLS(df_normed['sales_clean'], X)\n",
        "ols_results = ols_model.fit()"
      ],
      "metadata": {
        "id": "uAwjM25BWy9t"
      },
      "execution_count": 120,
      "outputs": []
    },
    {
      "cell_type": "code",
      "source": [
        "ols_results.params"
      ],
      "metadata": {
        "colab": {
          "base_uri": "https://localhost:8080/"
        },
        "id": "IectWvW4ixlT",
        "outputId": "ea6f5b6a-6ffa-4702-f55e-8eef2285ad63"
      },
      "execution_count": 121,
      "outputs": [
        {
          "output_type": "execute_result",
          "data": {
            "text/plain": [
              "const          -2.320193e-17\n",
              "tanass_clean    3.324291e-01\n",
              "tax             5.653771e-01\n",
              "dtype: float64"
            ]
          },
          "metadata": {},
          "execution_count": 121
        }
      ]
    },
    {
      "cell_type": "code",
      "source": [
        "ols_results.rsquared"
      ],
      "metadata": {
        "colab": {
          "base_uri": "https://localhost:8080/"
        },
        "id": "OPmNcIy-f-Sq",
        "outputId": "3d907175-09de-453b-a5f9-f8452c231d75"
      },
      "execution_count": 122,
      "outputs": [
        {
          "output_type": "execute_result",
          "data": {
            "text/plain": [
              "0.5691217992587185"
            ]
          },
          "metadata": {},
          "execution_count": 122
        }
      ]
    },
    {
      "cell_type": "code",
      "source": [
        "print(ols_results.summary())"
      ],
      "metadata": {
        "colab": {
          "base_uri": "https://localhost:8080/"
        },
        "id": "DgT7GGjMW6Md",
        "outputId": "d099ad89-42ac-4d3c-bb15-8db34595057e"
      },
      "execution_count": 123,
      "outputs": [
        {
          "output_type": "stream",
          "name": "stdout",
          "text": [
            "                            OLS Regression Results                            \n",
            "==============================================================================\n",
            "Dep. Variable:            sales_clean   R-squared:                       0.569\n",
            "Model:                            OLS   Adj. R-squared:                  0.569\n",
            "Method:                 Least Squares   F-statistic:                 2.197e+05\n",
            "Date:                Sat, 11 Dec 2021   Prob (F-statistic):               0.00\n",
            "Time:                        01:43:32   Log-Likelihood:            -3.3193e+05\n",
            "No. Observations:              332604   AIC:                         6.639e+05\n",
            "Df Residuals:                  332601   BIC:                         6.639e+05\n",
            "Df Model:                           2                                         \n",
            "Covariance Type:            nonrobust                                         \n",
            "================================================================================\n",
            "                   coef    std err          t      P>|t|      [0.025      0.975]\n",
            "--------------------------------------------------------------------------------\n",
            "const         -2.32e-17      0.001  -2.04e-14      1.000      -0.002       0.002\n",
            "tanass_clean     0.3324      0.001    271.377      0.000       0.330       0.335\n",
            "tax              0.5654      0.001    461.544      0.000       0.563       0.568\n",
            "==============================================================================\n",
            "Omnibus:                    22653.063   Durbin-Watson:                   1.917\n",
            "Prob(Omnibus):                  0.000   Jarque-Bera (JB):            76159.113\n",
            "Skew:                           0.310   Prob(JB):                         0.00\n",
            "Kurtosis:                       5.261   Cond. No.                         1.47\n",
            "==============================================================================\n",
            "\n",
            "Warnings:\n",
            "[1] Standard Errors assume that the covariance matrix of the errors is correctly specified.\n"
          ]
        }
      ]
    },
    {
      "cell_type": "code",
      "source": [
        "df_normed.corr()"
      ],
      "metadata": {
        "colab": {
          "base_uri": "https://localhost:8080/",
          "height": 143
        },
        "id": "12e6t82Ue-hi",
        "outputId": "be475d27-8758-4268-a3d9-13691aefb5b1"
      },
      "execution_count": 124,
      "outputs": [
        {
          "output_type": "execute_result",
          "data": {
            "text/html": [
              "<div>\n",
              "<style scoped>\n",
              "    .dataframe tbody tr th:only-of-type {\n",
              "        vertical-align: middle;\n",
              "    }\n",
              "\n",
              "    .dataframe tbody tr th {\n",
              "        vertical-align: top;\n",
              "    }\n",
              "\n",
              "    .dataframe thead th {\n",
              "        text-align: right;\n",
              "    }\n",
              "</style>\n",
              "<table border=\"1\" class=\"dataframe\">\n",
              "  <thead>\n",
              "    <tr style=\"text-align: right;\">\n",
              "      <th></th>\n",
              "      <th>sales_clean</th>\n",
              "      <th>tanass_clean</th>\n",
              "      <th>tax</th>\n",
              "    </tr>\n",
              "  </thead>\n",
              "  <tbody>\n",
              "    <tr>\n",
              "      <th>sales_clean</th>\n",
              "      <td>1.000000</td>\n",
              "      <td>0.541438</td>\n",
              "      <td>0.688270</td>\n",
              "    </tr>\n",
              "    <tr>\n",
              "      <th>tanass_clean</th>\n",
              "      <td>0.541438</td>\n",
              "      <td>1.000000</td>\n",
              "      <td>0.369681</td>\n",
              "    </tr>\n",
              "    <tr>\n",
              "      <th>tax</th>\n",
              "      <td>0.688270</td>\n",
              "      <td>0.369681</td>\n",
              "      <td>1.000000</td>\n",
              "    </tr>\n",
              "  </tbody>\n",
              "</table>\n",
              "</div>"
            ],
            "text/plain": [
              "              sales_clean  tanass_clean       tax\n",
              "sales_clean      1.000000      0.541438  0.688270\n",
              "tanass_clean     0.541438      1.000000  0.369681\n",
              "tax              0.688270      0.369681  1.000000"
            ]
          },
          "metadata": {},
          "execution_count": 124
        }
      ]
    },
    {
      "cell_type": "code",
      "source": [
        "df_normed['sales_clean'].corr(df_normed['tanass_clean'])"
      ],
      "metadata": {
        "colab": {
          "base_uri": "https://localhost:8080/"
        },
        "id": "TnS12rUBjZ7h",
        "outputId": "02e71f6e-1f32-4529-f218-1c3642e11c83"
      },
      "execution_count": 125,
      "outputs": [
        {
          "output_type": "execute_result",
          "data": {
            "text/plain": [
              "0.5414382274710408"
            ]
          },
          "metadata": {},
          "execution_count": 125
        }
      ]
    },
    {
      "cell_type": "markdown",
      "metadata": {
        "id": "8LPRDlrYcEZD"
      },
      "source": [
        "# Bootstrapping\n"
      ]
    },
    {
      "cell_type": "code",
      "metadata": {
        "id": "dUpJTNxtcEZE"
      },
      "source": [
        "from collections import defaultdict\n",
        "my_dict = defaultdict(lambda: defaultdict(lambda: defaultdict(lambda: defaultdict(dict))))"
      ],
      "execution_count": 126,
      "outputs": []
    },
    {
      "cell_type": "code",
      "metadata": {
        "id": "pN8XvnZrcEZF"
      },
      "source": [
        "sample_size_lst = [50, 100, 200, 500, 1000, 2000, 3500, 5000, 6500, 8000, 10000]"
      ],
      "execution_count": 148,
      "outputs": []
    },
    {
      "cell_type": "code",
      "source": [
        "def create_empty_df(column_names):\n",
        "    df = pd.DataFrame(columns = column_names)\n",
        "    \n",
        "    return df "
      ],
      "metadata": {
        "id": "WXpab6X_0_zz"
      },
      "execution_count": 149,
      "outputs": []
    },
    {
      "cell_type": "code",
      "source": [
        "### New \n",
        "\n",
        "encompassing_df = None\n",
        "bts_resamp = 10000\n",
        "\n",
        "for ss in sample_size_lst:\n",
        "\n",
        "    sample_mean_sales = []\n",
        "    sample_std_sales = [] \n",
        "    sample_median_sales = []\n",
        "\n",
        "    sample_corr_sales_tanass = []\n",
        "    sample_corr_sales_tax = []\n",
        "    sample_corr_tanass_tax = []\n",
        "\n",
        "    sample_ols_tanass = [] \n",
        "    sample_ols_tax = []\n",
        "    sample_ols_r2 = []\n",
        " \n",
        "    sample_from_pop = df_normed.sample(n=ss, replace=False, random_state=42)\n",
        "\n",
        "    xbar_sales = np.mean(sample_from_pop['sales_clean'])\n",
        "    std_sales = np.std(sample_from_pop['sales_clean'])\n",
        "    med_sales = np.median(sample_from_pop['sales_clean']) \n",
        "\n",
        "    corr_sales_tanass = sample_from_pop['sales_clean'].corr(sample_from_pop['tanass_clean'])\n",
        "    corr_sales_tax = sample_from_pop['sales_clean'].corr(sample_from_pop['tax'])\n",
        "    corr_tanass_tax = sample_from_pop['tanass_clean'].corr(sample_from_pop['tax'])\n",
        "\n",
        "    X = sm.add_constant(sample_from_pop.iloc[:,1:], prepend = True)\n",
        "    ols_results = sm.OLS(sample_from_pop['sales_clean'], X).fit()\n",
        "\n",
        "    ols_tanass = ols_results.params[1]\n",
        "    ols_tax = ols_results.params[2]\n",
        "    ols_r2 = ols_results.rsquared\n",
        "\n",
        "\n",
        "    for _ in range(bts_resamp):\n",
        "        resample_df = sample_from_pop.sample(n=ss, replace=True)\n",
        "\n",
        "        sample_mean_sales.append(np.mean(resample_df['sales_clean']))\n",
        "        sample_std_sales.append(np.std(resample_df['sales_clean']))\n",
        "        sample_median_sales.append(np.median(resample_df['sales_clean']))\n",
        "\n",
        "        sample_corr_sales_tanass.append(resample_df['sales_clean'].corr(resample_df['tanass_clean']))\n",
        "        sample_corr_sales_tax.append(resample_df['sales_clean'].corr(resample_df['tax']))\n",
        "        sample_corr_tanass_tax.append(resample_df['tanass_clean'].corr(resample_df['tax']))\n",
        "\n",
        "\n",
        "        X_resample = sm.add_constant(resample_df.iloc[:,1:], prepend = True)\n",
        "        ols_results_resample = sm.OLS(resample_df['sales_clean'], X_resample).fit()\n",
        "\n",
        "        sample_ols_tanass.append(ols_results_resample.params[1])\n",
        "        sample_ols_tax.append(ols_results_resample.params[2])\n",
        "        sample_ols_r2.append(ols_results_resample.rsquared)\n",
        "\n",
        "    ### Converting lists to arrays\n",
        "    sample_mean_sales = np.asarray(sample_mean_sales)\n",
        "    sample_std_sales = np.asarray(sample_std_sales)\n",
        "    sample_median_sales = np.asarray(sample_median_sales)\n",
        "\n",
        "    sample_corr_sales_tanass = np.asarray(sample_corr_sales_tanass)\n",
        "    sample_corr_sales_tax = np.asarray(sample_corr_sales_tax)\n",
        "    sample_corr_tanass_tax = np.asarray(sample_corr_tanass_tax)\n",
        "\n",
        "    sample_ols_tanass = np.asarray(sample_ols_tanass)\n",
        "    sample_ols_tax = np.asarray(sample_ols_tax)\n",
        "    sample_ols_r2 = np.asarray(sample_ols_r2)\n",
        "\n",
        "\n",
        "    bs_df = create_empty_df(['Sample_Size', 'Sample_Facts', 'Statistics/Estimator', 'Mean', '0.025', '0.975', 'Bias', 'SE', 'RMSE'])\n",
        "\n",
        "    bs_df['Sample_Size'] = [ss for i in range(9)]\n",
        "    bs_df['Sample_Facts'] = [xbar_sales, std_sales, med_sales, \n",
        "                             corr_sales_tanass, corr_sales_tax, corr_tanass_tax, \n",
        "                             ols_tanass, ols_tax, ols_r2]\n",
        "\n",
        "    bs_df['Statistics/Estimator'] = ['xbar_sales', 'std_sales', 'med_sales', \n",
        "                                     'corr_sales_tanass', 'corr_sales_tax', 'corr_tanass_tax', \n",
        "                                     'ols_tanass', 'ols_tax', 'ols_r2']\n",
        "\n",
        "    bs_df['Mean'] = [np.mean(sample_mean_sales), np.mean(sample_std_sales), np.mean(sample_median_sales),\n",
        "                     np.mean(sample_corr_sales_tanass), np.mean(sample_corr_sales_tax), np.mean(sample_corr_tanass_tax),\n",
        "                     np.mean(sample_ols_tanass), np.mean(sample_ols_tax), np.mean(sample_ols_r2)]\n",
        "\n",
        "    bs_df['0.025'] = [np.percentile(sample_mean_sales, 2.5), np.percentile(sample_std_sales, 2.5), np.percentile(sample_median_sales, 2.5),\n",
        "                      np.percentile(sample_corr_sales_tanass, 2.5), np.percentile(sample_corr_sales_tax, 2.5), np.percentile(sample_corr_tanass_tax, 2.5),\n",
        "                      np.percentile(sample_ols_tanass, 2.5), np.percentile(sample_ols_tax, 2.5), np.percentile(sample_ols_r2, 2.5)]\n",
        "\n",
        "    bs_df['0.975'] = [np.percentile(sample_mean_sales, 97.5), np.percentile(sample_std_sales, 97.5), np.percentile(sample_median_sales, 97.5),\n",
        "                      np.percentile(sample_corr_sales_tanass, 97.5), np.percentile(sample_corr_sales_tax, 97.5), np.percentile(sample_corr_tanass_tax, 97.5),\n",
        "                      np.percentile(sample_ols_tanass, 97.5), np.percentile(sample_ols_tax, 97.5), np.percentile(sample_ols_r2, 97.5)]\n",
        "    \n",
        "\n",
        "    bs_df['Bias'] = [np.abs(xbar_sales-np.mean(sample_mean_sales)), np.abs(std_sales-np.mean(sample_std_sales)), np.abs(med_sales-np.mean(sample_median_sales)),\n",
        "                     np.abs(corr_sales_tanass-np.mean(sample_corr_sales_tanass)), np.abs(corr_sales_tax-np.mean(sample_corr_sales_tax)), np.abs(corr_tanass_tax-np.mean(sample_corr_tanass_tax)),\n",
        "                     np.abs(ols_tanass-np.mean(sample_ols_tanass)), np.abs(ols_tax-np.mean(sample_ols_tax)), np.abs(ols_r2-np.mean(sample_ols_r2))]\n",
        "\n",
        "    bs_df['SE'] = [np.std(sample_mean_sales), np.std(sample_std_sales), np.std(sample_median_sales),\n",
        "                   np.std(sample_corr_sales_tanass), np.std(sample_corr_sales_tax), np.std(sample_corr_tanass_tax),\n",
        "                   np.std(sample_ols_tanass), np.std(sample_ols_tax), np.std(sample_ols_r2)]\n",
        "\n",
        "    bs_df['RMSE'] = [np.sqrt(np.mean((xbar_sales-sample_mean_sales)**2)), np.sqrt(np.mean((std_sales-sample_std_sales)**2)), np.sqrt(np.mean((med_sales-sample_median_sales)**2)),\n",
        "                     np.sqrt(np.mean((corr_sales_tanass-sample_corr_sales_tanass)**2)), np.sqrt(np.mean((corr_sales_tax-sample_corr_sales_tax)**2)), np.sqrt(np.mean((corr_tanass_tax-sample_corr_tanass_tax)**2)),\n",
        "                     np.sqrt(np.mean((ols_tanass-sample_ols_tanass)**2)), np.sqrt(np.mean((ols_tax-sample_ols_tax)**2)), np.sqrt(np.mean((ols_r2-sample_ols_r2)**2))] \n",
        "\n",
        "    encompassing_df = pd.concat([encompassing_df, bs_df])   \n",
        "\n",
        "\n",
        "encompassing_df = encompassing_df.reset_index(drop = True)\n"
      ],
      "metadata": {
        "id": "BFKr0osLzrie"
      },
      "execution_count": 150,
      "outputs": []
    },
    {
      "cell_type": "code",
      "source": [
        "encompassing_df[encompassing_df['Statistics/Estimator'] == 'med_sales']"
      ],
      "metadata": {
        "colab": {
          "base_uri": "https://localhost:8080/",
          "height": 394
        },
        "id": "iqUQbPrFB7fp",
        "outputId": "e1c80341-e3d9-4e8e-f60d-2693ba2177e2"
      },
      "execution_count": 168,
      "outputs": [
        {
          "output_type": "execute_result",
          "data": {
            "text/html": [
              "<div>\n",
              "<style scoped>\n",
              "    .dataframe tbody tr th:only-of-type {\n",
              "        vertical-align: middle;\n",
              "    }\n",
              "\n",
              "    .dataframe tbody tr th {\n",
              "        vertical-align: top;\n",
              "    }\n",
              "\n",
              "    .dataframe thead th {\n",
              "        text-align: right;\n",
              "    }\n",
              "</style>\n",
              "<table border=\"1\" class=\"dataframe\">\n",
              "  <thead>\n",
              "    <tr style=\"text-align: right;\">\n",
              "      <th></th>\n",
              "      <th>Sample_Size</th>\n",
              "      <th>Sample_Facts</th>\n",
              "      <th>Statistics/Estimator</th>\n",
              "      <th>Mean</th>\n",
              "      <th>0.025</th>\n",
              "      <th>0.975</th>\n",
              "      <th>Bias</th>\n",
              "      <th>SE</th>\n",
              "      <th>RMSE</th>\n",
              "    </tr>\n",
              "  </thead>\n",
              "  <tbody>\n",
              "    <tr>\n",
              "      <th>2</th>\n",
              "      <td>50</td>\n",
              "      <td>0.002977</td>\n",
              "      <td>med_sales</td>\n",
              "      <td>-0.073403</td>\n",
              "      <td>-0.423388</td>\n",
              "      <td>0.212843</td>\n",
              "      <td>0.076380</td>\n",
              "      <td>0.181893</td>\n",
              "      <td>0.197279</td>\n",
              "    </tr>\n",
              "    <tr>\n",
              "      <th>11</th>\n",
              "      <td>100</td>\n",
              "      <td>-0.074903</td>\n",
              "      <td>med_sales</td>\n",
              "      <td>-0.110353</td>\n",
              "      <td>-0.391682</td>\n",
              "      <td>0.156322</td>\n",
              "      <td>0.035450</td>\n",
              "      <td>0.177698</td>\n",
              "      <td>0.181199</td>\n",
              "    </tr>\n",
              "    <tr>\n",
              "      <th>20</th>\n",
              "      <td>200</td>\n",
              "      <td>0.016010</td>\n",
              "      <td>med_sales</td>\n",
              "      <td>-0.005764</td>\n",
              "      <td>-0.170904</td>\n",
              "      <td>0.118317</td>\n",
              "      <td>0.021774</td>\n",
              "      <td>0.079492</td>\n",
              "      <td>0.082420</td>\n",
              "    </tr>\n",
              "    <tr>\n",
              "      <th>29</th>\n",
              "      <td>500</td>\n",
              "      <td>-0.114592</td>\n",
              "      <td>med_sales</td>\n",
              "      <td>-0.095447</td>\n",
              "      <td>-0.189996</td>\n",
              "      <td>0.049782</td>\n",
              "      <td>0.019145</td>\n",
              "      <td>0.064811</td>\n",
              "      <td>0.067580</td>\n",
              "    </tr>\n",
              "    <tr>\n",
              "      <th>38</th>\n",
              "      <td>1000</td>\n",
              "      <td>-0.062767</td>\n",
              "      <td>med_sales</td>\n",
              "      <td>-0.064924</td>\n",
              "      <td>-0.144268</td>\n",
              "      <td>0.029932</td>\n",
              "      <td>0.002157</td>\n",
              "      <td>0.047349</td>\n",
              "      <td>0.047398</td>\n",
              "    </tr>\n",
              "    <tr>\n",
              "      <th>47</th>\n",
              "      <td>2000</td>\n",
              "      <td>-0.043599</td>\n",
              "      <td>med_sales</td>\n",
              "      <td>-0.045992</td>\n",
              "      <td>-0.106920</td>\n",
              "      <td>0.010119</td>\n",
              "      <td>0.002392</td>\n",
              "      <td>0.029331</td>\n",
              "      <td>0.029429</td>\n",
              "    </tr>\n",
              "    <tr>\n",
              "      <th>56</th>\n",
              "      <td>3500</td>\n",
              "      <td>0.007372</td>\n",
              "      <td>med_sales</td>\n",
              "      <td>0.007075</td>\n",
              "      <td>-0.031926</td>\n",
              "      <td>0.040809</td>\n",
              "      <td>0.000298</td>\n",
              "      <td>0.017971</td>\n",
              "      <td>0.017973</td>\n",
              "    </tr>\n",
              "    <tr>\n",
              "      <th>65</th>\n",
              "      <td>5000</td>\n",
              "      <td>0.012935</td>\n",
              "      <td>med_sales</td>\n",
              "      <td>0.012937</td>\n",
              "      <td>-0.020569</td>\n",
              "      <td>0.040617</td>\n",
              "      <td>0.000003</td>\n",
              "      <td>0.015420</td>\n",
              "      <td>0.015420</td>\n",
              "    </tr>\n",
              "    <tr>\n",
              "      <th>74</th>\n",
              "      <td>6500</td>\n",
              "      <td>0.015744</td>\n",
              "      <td>med_sales</td>\n",
              "      <td>0.015277</td>\n",
              "      <td>-0.010689</td>\n",
              "      <td>0.040085</td>\n",
              "      <td>0.000467</td>\n",
              "      <td>0.013324</td>\n",
              "      <td>0.013333</td>\n",
              "    </tr>\n",
              "    <tr>\n",
              "      <th>83</th>\n",
              "      <td>8000</td>\n",
              "      <td>0.005125</td>\n",
              "      <td>med_sales</td>\n",
              "      <td>0.004157</td>\n",
              "      <td>-0.021996</td>\n",
              "      <td>0.029250</td>\n",
              "      <td>0.000968</td>\n",
              "      <td>0.012823</td>\n",
              "      <td>0.012860</td>\n",
              "    </tr>\n",
              "    <tr>\n",
              "      <th>92</th>\n",
              "      <td>10000</td>\n",
              "      <td>0.006519</td>\n",
              "      <td>med_sales</td>\n",
              "      <td>0.006188</td>\n",
              "      <td>-0.019043</td>\n",
              "      <td>0.027959</td>\n",
              "      <td>0.000331</td>\n",
              "      <td>0.011361</td>\n",
              "      <td>0.011365</td>\n",
              "    </tr>\n",
              "  </tbody>\n",
              "</table>\n",
              "</div>"
            ],
            "text/plain": [
              "    Sample_Size  Sample_Facts  ...        SE      RMSE\n",
              "2            50      0.002977  ...  0.181893  0.197279\n",
              "11          100     -0.074903  ...  0.177698  0.181199\n",
              "20          200      0.016010  ...  0.079492  0.082420\n",
              "29          500     -0.114592  ...  0.064811  0.067580\n",
              "38         1000     -0.062767  ...  0.047349  0.047398\n",
              "47         2000     -0.043599  ...  0.029331  0.029429\n",
              "56         3500      0.007372  ...  0.017971  0.017973\n",
              "65         5000      0.012935  ...  0.015420  0.015420\n",
              "74         6500      0.015744  ...  0.013324  0.013333\n",
              "83         8000      0.005125  ...  0.012823  0.012860\n",
              "92        10000      0.006519  ...  0.011361  0.011365\n",
              "\n",
              "[11 rows x 9 columns]"
            ]
          },
          "metadata": {},
          "execution_count": 168
        }
      ]
    },
    {
      "cell_type": "code",
      "source": [
        "g = sns.relplot(x=\"Sample_Size\", y=\"Bias\", hue = 'Statistics/Estimator', style = 'Statistics/Estimator', \n",
        "            #palette = ['red','green','blue','black' ],  \n",
        "            kind=\"line\",  facet_kws={'legend_out': False}, \n",
        "            data=encompassing_df, markers=True, height = 10, aspect = 2).set(title = 'How Estimators changes?')\n",
        "\n",
        "leg = g.axes.flat[0].get_legend()\n",
        "new_title = 'Statistics/Estimator'\n",
        "leg.set_title(new_title)\n",
        "new_labels = list(bs_df['Statistics/Estimator'])\n",
        "for t, l in zip(leg.texts, new_labels):\n",
        "    t.set_text(l)\n",
        "\n",
        "plt.show(g)"
      ],
      "metadata": {
        "colab": {
          "base_uri": "https://localhost:8080/",
          "height": 739
        },
        "id": "DvKgjrIcT8Hh",
        "outputId": "cb2765a9-7a28-4495-f579-daa0cb64c673"
      },
      "execution_count": 167,
      "outputs": [
        {
          "output_type": "display_data",
          "data": {
            "image/png": "[encoded data removed]",
            "text/plain": [
              "<Figure size 1440x720 with 1 Axes>"
            ]
          },
          "metadata": {}
        }
      ]
    },
    {
      "cell_type": "code",
      "source": [
        "np.mean(sample_mean_sales)"
      ],
      "metadata": {
        "colab": {
          "base_uri": "https://localhost:8080/"
        },
        "id": "L9kgZFZyBP9W",
        "outputId": "98675ffe-55eb-44b8-8708-1dde2f49d08e"
      },
      "execution_count": 169,
      "outputs": [
        {
          "output_type": "execute_result",
          "data": {
            "text/plain": [
              "-0.0017072525601443892"
            ]
          },
          "metadata": {},
          "execution_count": 169
        }
      ]
    },
    {
      "cell_type": "code",
      "source": [
        "plt.hist(sample_r2)"
      ],
      "metadata": {
        "colab": {
          "base_uri": "https://localhost:8080/",
          "height": 372
        },
        "id": "qelwI8xYAkbW",
        "outputId": "a82a17cf-6bda-4920-c80d-4863198e0ccd"
      },
      "execution_count": 170,
      "outputs": [
        {
          "output_type": "execute_result",
          "data": {
            "text/plain": [
              "(array([   4.,   19.,  193.,  881., 2157., 3115., 2380.,  997.,  228.,\n",
              "          26.]),\n",
              " array([0.52762021, 0.53453323, 0.54144626, 0.54835928, 0.5552723 ,\n",
              "        0.56218533, 0.56909835, 0.57601137, 0.5829244 , 0.58983742,\n",
              "        0.59675045]),\n",
              " <a list of 10 Patch objects>)"
            ]
          },
          "metadata": {},
          "execution_count": 170
        },
        {
          "output_type": "display_data",
          "data": {
            "image/png": "[encoded data removed]",
            "text/plain": [
              "<Figure size 432x288 with 1 Axes>"
            ]
          },
          "metadata": {}
        }
      ]
    },
    {
      "cell_type": "code",
      "source": [
        "plt.hist(sample_median_sales)"
      ],
      "metadata": {
        "colab": {
          "base_uri": "https://localhost:8080/",
          "height": 372
        },
        "id": "GZ1fQdAXdayX",
        "outputId": "a4c2322d-5eda-469e-c00d-e0dd4e3e4232"
      },
      "execution_count": 171,
      "outputs": [
        {
          "output_type": "execute_result",
          "data": {
            "text/plain": [
              "(array([   7.,   56.,  274.,  784., 2284., 2243., 2746., 1231.,  327.,\n",
              "          48.]),\n",
              " array([-0.04034077, -0.0320854 , -0.02383003, -0.01557466, -0.00731929,\n",
              "         0.00093608,  0.00919145,  0.01744683,  0.0257022 ,  0.03395757,\n",
              "         0.04221294]),\n",
              " <a list of 10 Patch objects>)"
            ]
          },
          "metadata": {},
          "execution_count": 171
        },
        {
          "output_type": "display_data",
          "data": {
            "image/png": "[encoded data removed]",
            "text/plain": [
              "<Figure size 432x288 with 1 Axes>"
            ]
          },
          "metadata": {}
        }
      ]
    },
    {
      "cell_type": "code",
      "source": [
        "np.mean(sample_mean_sales)"
      ],
      "metadata": {
        "colab": {
          "base_uri": "https://localhost:8080/"
        },
        "id": "b-k3YBbmVf7G",
        "outputId": "7b325028-c21a-4955-a49f-209dbf09be80"
      },
      "execution_count": 172,
      "outputs": [
        {
          "output_type": "execute_result",
          "data": {
            "text/plain": [
              "-0.0017072525601443892"
            ]
          },
          "metadata": {},
          "execution_count": 172
        }
      ]
    },
    {
      "cell_type": "code",
      "source": [
        "np.mean(ols_r2)"
      ],
      "metadata": {
        "colab": {
          "base_uri": "https://localhost:8080/"
        },
        "id": "AA5xcR0MYb_3",
        "outputId": "448c6bf2-3e12-4d9a-daf6-b18f5af39fbf"
      },
      "execution_count": 173,
      "outputs": [
        {
          "output_type": "execute_result",
          "data": {
            "text/plain": [
              "0.5658878849432876"
            ]
          },
          "metadata": {},
          "execution_count": 173
        }
      ]
    }
  ]
}