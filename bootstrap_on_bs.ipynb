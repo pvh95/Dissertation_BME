{
  "nbformat": 4,
  "nbformat_minor": 0,
  "metadata": {
    "interpreter": {
      "hash": "e7370f93d1d0cde622a1f8e1c04877d8463912d04d973331ad4851f04de6915a"
    },
    "kernelspec": {
      "display_name": "Python 3 (ipykernel)",
      "language": "python",
      "name": "python3"
    },
    "language_info": {
      "codemirror_mode": {
        "name": "ipython",
        "version": 3
      },
      "file_extension": ".py",
      "mimetype": "text/x-python",
      "name": "python",
      "nbconvert_exporter": "python",
      "pygments_lexer": "ipython3",
      "version": "3.8.10"
    },
    "colab": {
      "name": "bootstrap_on_bs.ipynb",
      "provenance": [],
      "collapsed_sections": [],
      "include_colab_link": true
    }
  },
  "cells": [
    {
      "cell_type": "markdown",
      "metadata": {
        "id": "view-in-github",
        "colab_type": "text"
      },
      "source": [
        "<a href=\"https://colab.research.google.com/github/pvh95/Dissertation_BME/blob/main/bootstrap_on_bs.ipynb\" target=\"_parent\"><img src=\"https://colab.research.google.com/assets/colab-badge.svg\" alt=\"Open In Colab\"/></a>"
      ]
    },
    {
      "cell_type": "code",
      "metadata": {
        "colab": {
          "base_uri": "https://localhost:8080/"
        },
        "id": "wDRVyD2ac211",
        "outputId": "55293ec2-790a-4422-c353-4a048ff368c3"
      },
      "source": [
        "from google.colab import files\n",
        "from google.colab import drive  \n",
        "drive.mount('/content/gdrive/')"
      ],
      "execution_count": 1,
      "outputs": [
        {
          "output_type": "stream",
          "name": "stdout",
          "text": [
            "Mounted at /content/gdrive/\n"
          ]
        }
      ]
    },
    {
      "cell_type": "code",
      "metadata": {
        "id": "_V9UgeY8cEYv",
        "colab": {
          "base_uri": "https://localhost:8080/"
        },
        "outputId": "1148283e-eea9-4577-a8bf-c99070164258"
      },
      "source": [
        "import numpy as np \n",
        "import pandas as pd\n",
        "import random \n",
        "from prettytable import PrettyTable\n",
        "import matplotlib.pyplot as plt\n",
        "import seaborn as sns\n",
        "import statsmodels.api as sm"
      ],
      "execution_count": 2,
      "outputs": [
        {
          "output_type": "stream",
          "name": "stderr",
          "text": [
            "/usr/local/lib/python3.7/dist-packages/statsmodels/tools/_testing.py:19: FutureWarning: pandas.util.testing is deprecated. Use the functions in the public API at pandas.testing instead.\n",
            "  import pandas.util.testing as tm\n"
          ]
        }
      ]
    },
    {
      "cell_type": "code",
      "metadata": {
        "colab": {
          "base_uri": "https://localhost:8080/"
        },
        "id": "sHRbmZsqdlL2",
        "outputId": "9f13e273-4ca3-4568-948f-77503bcc0533"
      },
      "source": [
        "df2018 = pd.read_csv('/content/gdrive/MyDrive/Dissertation_CEU_BME/balance2018.csv')"
      ],
      "execution_count": 3,
      "outputs": [
        {
          "output_type": "stream",
          "name": "stderr",
          "text": [
            "/usr/local/lib/python3.7/dist-packages/IPython/core/interactiveshell.py:2718: DtypeWarning: Columns (66) have mixed types.Specify dtype option on import or set low_memory=False.\n",
            "  interactivity=interactivity, compiler=compiler, result=result)\n"
          ]
        }
      ]
    },
    {
      "cell_type": "code",
      "source": [
        "df2018 = df2018[df2018['sales'] != 0]"
      ],
      "metadata": {
        "id": "8Oi9YNBttH5E"
      },
      "execution_count": 4,
      "outputs": []
    },
    {
      "cell_type": "code",
      "metadata": {
        "colab": {
          "base_uri": "https://localhost:8080/",
          "height": 513
        },
        "id": "6uFHKGAfekJu",
        "outputId": "d5ff89a7-5fdf-4d27-ae73-24d09a8bb69c"
      },
      "source": [
        "df2018"
      ],
      "execution_count": 5,
      "outputs": [
        {
          "output_type": "execute_result",
          "data": {
            "text/html": [
              "<div>\n",
              "<style scoped>\n",
              "    .dataframe tbody tr th:only-of-type {\n",
              "        vertical-align: middle;\n",
              "    }\n",
              "\n",
              "    .dataframe tbody tr th {\n",
              "        vertical-align: top;\n",
              "    }\n",
              "\n",
              "    .dataframe thead th {\n",
              "        text-align: right;\n",
              "    }\n",
              "</style>\n",
              "<table border=\"1\" class=\"dataframe\">\n",
              "  <thead>\n",
              "    <tr style=\"text-align: right;\">\n",
              "      <th></th>\n",
              "      <th>frame_id</th>\n",
              "      <th>originalid</th>\n",
              "      <th>year</th>\n",
              "      <th>sales</th>\n",
              "      <th>sales_clean</th>\n",
              "      <th>sales19</th>\n",
              "      <th>emp</th>\n",
              "      <th>tanass</th>\n",
              "      <th>tanass_clean</th>\n",
              "      <th>eszk</th>\n",
              "      <th>hlk</th>\n",
              "      <th>rlk</th>\n",
              "      <th>export</th>\n",
              "      <th>export19</th>\n",
              "      <th>egyebbev</th>\n",
              "      <th>aktivalt</th>\n",
              "      <th>ranyag</th>\n",
              "      <th>ranyag01</th>\n",
              "      <th>ranyag02</th>\n",
              "      <th>ranyag03</th>\n",
              "      <th>ranyag04</th>\n",
              "      <th>ranyagesz</th>\n",
              "      <th>wbill</th>\n",
              "      <th>wbill19</th>\n",
              "      <th>persexp</th>\n",
              "      <th>persexp_clean</th>\n",
              "      <th>persexp19</th>\n",
              "      <th>kecs</th>\n",
              "      <th>kecs_clean</th>\n",
              "      <th>egyebraf</th>\n",
              "      <th>ereduzem</th>\n",
              "      <th>pretax</th>\n",
              "      <th>jetok</th>\n",
              "      <th>jetok01</th>\n",
              "      <th>jetok03</th>\n",
              "      <th>jetok06</th>\n",
              "      <th>jetok02</th>\n",
              "      <th>jetok04</th>\n",
              "      <th>immat</th>\n",
              "      <th>immat_clean</th>\n",
              "      <th>satok</th>\n",
              "      <th>igb_vett_szolg_rekl_szolg</th>\n",
              "      <th>igb_vett_szolg_rekl_szolg_tm1</th>\n",
              "      <th>igb_vett_szolg_rekl_szolg_tm2</th>\n",
              "      <th>teaor_raw</th>\n",
              "      <th>teaor03_2d</th>\n",
              "      <th>teaor08_2d</th>\n",
              "      <th>foundyear</th>\n",
              "      <th>firmage</th>\n",
              "      <th>gdp</th>\n",
              "      <th>gdp2</th>\n",
              "      <th>tax</th>\n",
              "      <th>tax19</th>\n",
              "      <th>ppi19</th>\n",
              "      <th>gdp19</th>\n",
              "      <th>county</th>\n",
              "      <th>teaor03_1d</th>\n",
              "      <th>teaor08_1d</th>\n",
              "      <th>VAT_group_id</th>\n",
              "      <th>so3_with_mo3</th>\n",
              "      <th>so3</th>\n",
              "      <th>fo3</th>\n",
              "      <th>do3</th>\n",
              "      <th>mo3</th>\n",
              "      <th>yearly_group_id</th>\n",
              "      <th>alltime_group_id</th>\n",
              "      <th>mother_tax_id</th>\n",
              "      <th>region</th>\n",
              "      <th>final_netgep</th>\n",
              "      <th>final_gep_jarmu_ktg</th>\n",
              "    </tr>\n",
              "  </thead>\n",
              "  <tbody>\n",
              "    <tr>\n",
              "      <th>0</th>\n",
              "      <td>ft10000537</td>\n",
              "      <td>10000537</td>\n",
              "      <td>2018</td>\n",
              "      <td>293879.0</td>\n",
              "      <td>293879.0</td>\n",
              "      <td>3.010476e+05</td>\n",
              "      <td>14.0</td>\n",
              "      <td>111453.0</td>\n",
              "      <td>111453.0</td>\n",
              "      <td>257811.0</td>\n",
              "      <td>0.0</td>\n",
              "      <td>25549.0</td>\n",
              "      <td>NaN</td>\n",
              "      <td>NaN</td>\n",
              "      <td>8.0</td>\n",
              "      <td>0.0</td>\n",
              "      <td>140608.0</td>\n",
              "      <td>NaN</td>\n",
              "      <td>NaN</td>\n",
              "      <td>NaN</td>\n",
              "      <td>NaN</td>\n",
              "      <td>NaN</td>\n",
              "      <td>NaN</td>\n",
              "      <td>NaN</td>\n",
              "      <td>118077.0</td>\n",
              "      <td>118077.0</td>\n",
              "      <td>1.209572e+05</td>\n",
              "      <td>6089.0</td>\n",
              "      <td>6089.0</td>\n",
              "      <td>13755.0</td>\n",
              "      <td>15358.0</td>\n",
              "      <td>25305.0</td>\n",
              "      <td>3405.0</td>\n",
              "      <td>NaN</td>\n",
              "      <td>NaN</td>\n",
              "      <td>NaN</td>\n",
              "      <td>NaN</td>\n",
              "      <td>NaN</td>\n",
              "      <td>2885.0</td>\n",
              "      <td>2885.0</td>\n",
              "      <td>204658.0</td>\n",
              "      <td>NaN</td>\n",
              "      <td>NaN</td>\n",
              "      <td>NaN</td>\n",
              "      <td>7490.0</td>\n",
              "      <td>74.0</td>\n",
              "      <td>74.0</td>\n",
              "      <td>1980</td>\n",
              "      <td>38</td>\n",
              "      <td>153271.0</td>\n",
              "      <td>153271.0</td>\n",
              "      <td>7471.0</td>\n",
              "      <td>7.653240e+03</td>\n",
              "      <td>0.976188</td>\n",
              "      <td>1.570097e+05</td>\n",
              "      <td>NaN</td>\n",
              "      <td>K</td>\n",
              "      <td>M</td>\n",
              "      <td>NaN</td>\n",
              "      <td>0</td>\n",
              "      <td>0</td>\n",
              "      <td>0</td>\n",
              "      <td>1</td>\n",
              "      <td>0</td>\n",
              "      <td>NaN</td>\n",
              "      <td>NaN</td>\n",
              "      <td>NaN</td>\n",
              "      <td>NaN</td>\n",
              "      <td>0.0</td>\n",
              "      <td>0</td>\n",
              "    </tr>\n",
              "    <tr>\n",
              "      <th>1</th>\n",
              "      <td>ft10003035</td>\n",
              "      <td>10003035</td>\n",
              "      <td>2018</td>\n",
              "      <td>174369000.0</td>\n",
              "      <td>174369000.0</td>\n",
              "      <td>1.740224e+08</td>\n",
              "      <td>1774.0</td>\n",
              "      <td>46332000.0</td>\n",
              "      <td>46332000.0</td>\n",
              "      <td>144084000.0</td>\n",
              "      <td>0.0</td>\n",
              "      <td>60438000.0</td>\n",
              "      <td>138596000.0</td>\n",
              "      <td>1.383205e+08</td>\n",
              "      <td>1347000.0</td>\n",
              "      <td>7972000.0</td>\n",
              "      <td>121416000.0</td>\n",
              "      <td>106771000.0</td>\n",
              "      <td>13795000.0</td>\n",
              "      <td>559000.0</td>\n",
              "      <td>23000.0</td>\n",
              "      <td>268000.0</td>\n",
              "      <td>10928000.0</td>\n",
              "      <td>1.090628e+07</td>\n",
              "      <td>15305000.0</td>\n",
              "      <td>15305000.0</td>\n",
              "      <td>1.527458e+07</td>\n",
              "      <td>5756000.0</td>\n",
              "      <td>5756000.0</td>\n",
              "      <td>3306000.0</td>\n",
              "      <td>37905000.0</td>\n",
              "      <td>37812000.0</td>\n",
              "      <td>4000000.0</td>\n",
              "      <td>NaN</td>\n",
              "      <td>NaN</td>\n",
              "      <td>NaN</td>\n",
              "      <td>NaN</td>\n",
              "      <td>NaN</td>\n",
              "      <td>876000.0</td>\n",
              "      <td>876000.0</td>\n",
              "      <td>77932000.0</td>\n",
              "      <td>NaN</td>\n",
              "      <td>NaN</td>\n",
              "      <td>NaN</td>\n",
              "      <td>2120.0</td>\n",
              "      <td>24.0</td>\n",
              "      <td>21.0</td>\n",
              "      <td>1912</td>\n",
              "      <td>106</td>\n",
              "      <td>60925000.0</td>\n",
              "      <td>60925000.0</td>\n",
              "      <td>3202000.0</td>\n",
              "      <td>3.195635e+06</td>\n",
              "      <td>1.001992</td>\n",
              "      <td>6.080389e+07</td>\n",
              "      <td>1.0</td>\n",
              "      <td>D</td>\n",
              "      <td>C</td>\n",
              "      <td>17780948.0</td>\n",
              "      <td>0</td>\n",
              "      <td>0</td>\n",
              "      <td>1</td>\n",
              "      <td>0</td>\n",
              "      <td>0</td>\n",
              "      <td>NaN</td>\n",
              "      <td>NaN</td>\n",
              "      <td>NaN</td>\n",
              "      <td>Közép-Magyarország</td>\n",
              "      <td>14105000.0</td>\n",
              "      <td>0</td>\n",
              "    </tr>\n",
              "    <tr>\n",
              "      <th>2</th>\n",
              "      <td>ft10008676</td>\n",
              "      <td>10008676</td>\n",
              "      <td>2018</td>\n",
              "      <td>18545403.0</td>\n",
              "      <td>18545403.0</td>\n",
              "      <td>1.956978e+07</td>\n",
              "      <td>1955.0</td>\n",
              "      <td>177349183.0</td>\n",
              "      <td>177349183.0</td>\n",
              "      <td>196396512.0</td>\n",
              "      <td>56609854.0</td>\n",
              "      <td>23998090.0</td>\n",
              "      <td>8070275.0</td>\n",
              "      <td>8.516047e+06</td>\n",
              "      <td>21982791.0</td>\n",
              "      <td>1253797.0</td>\n",
              "      <td>16250984.0</td>\n",
              "      <td>4845388.0</td>\n",
              "      <td>8767953.0</td>\n",
              "      <td>572562.0</td>\n",
              "      <td>1380085.0</td>\n",
              "      <td>684996.0</td>\n",
              "      <td>11681903.0</td>\n",
              "      <td>1.232717e+07</td>\n",
              "      <td>16345615.0</td>\n",
              "      <td>16345615.0</td>\n",
              "      <td>1.724849e+07</td>\n",
              "      <td>6320527.0</td>\n",
              "      <td>6320527.0</td>\n",
              "      <td>1987058.0</td>\n",
              "      <td>877807.0</td>\n",
              "      <td>359752.0</td>\n",
              "      <td>6848878.0</td>\n",
              "      <td>NaN</td>\n",
              "      <td>NaN</td>\n",
              "      <td>NaN</td>\n",
              "      <td>NaN</td>\n",
              "      <td>NaN</td>\n",
              "      <td>95697.0</td>\n",
              "      <td>95697.0</td>\n",
              "      <td>14996832.0</td>\n",
              "      <td>NaN</td>\n",
              "      <td>NaN</td>\n",
              "      <td>NaN</td>\n",
              "      <td>4910.0</td>\n",
              "      <td>60.0</td>\n",
              "      <td>49.0</td>\n",
              "      <td>1876</td>\n",
              "      <td>142</td>\n",
              "      <td>3548216.0</td>\n",
              "      <td>3548216.0</td>\n",
              "      <td>84214.0</td>\n",
              "      <td>8.886566e+04</td>\n",
              "      <td>0.947655</td>\n",
              "      <td>3.744206e+06</td>\n",
              "      <td>8.0</td>\n",
              "      <td>I</td>\n",
              "      <td>H</td>\n",
              "      <td>NaN</td>\n",
              "      <td>1</td>\n",
              "      <td>1</td>\n",
              "      <td>0</td>\n",
              "      <td>0</td>\n",
              "      <td>0</td>\n",
              "      <td>89.0</td>\n",
              "      <td>123.0</td>\n",
              "      <td>10008676</td>\n",
              "      <td>Nyugat-Dunántúl</td>\n",
              "      <td>51125162.0</td>\n",
              "      <td>0</td>\n",
              "    </tr>\n",
              "    <tr>\n",
              "      <th>3</th>\n",
              "      <td>ft10008999</td>\n",
              "      <td>10008999</td>\n",
              "      <td>2018</td>\n",
              "      <td>651.0</td>\n",
              "      <td>651.0</td>\n",
              "      <td>6.726536e+02</td>\n",
              "      <td>10.0</td>\n",
              "      <td>1567027.0</td>\n",
              "      <td>1567027.0</td>\n",
              "      <td>2201354.0</td>\n",
              "      <td>0.0</td>\n",
              "      <td>95314.0</td>\n",
              "      <td>649.0</td>\n",
              "      <td>6.705870e+02</td>\n",
              "      <td>14027.0</td>\n",
              "      <td>121208.0</td>\n",
              "      <td>52866.0</td>\n",
              "      <td>791.0</td>\n",
              "      <td>46350.0</td>\n",
              "      <td>0.0</td>\n",
              "      <td>634.0</td>\n",
              "      <td>5091.0</td>\n",
              "      <td>76143.0</td>\n",
              "      <td>7.867567e+04</td>\n",
              "      <td>98406.0</td>\n",
              "      <td>98406.0</td>\n",
              "      <td>1.016792e+05</td>\n",
              "      <td>3886.0</td>\n",
              "      <td>3886.0</td>\n",
              "      <td>1946.0</td>\n",
              "      <td>-21218.0</td>\n",
              "      <td>-21633.0</td>\n",
              "      <td>20000.0</td>\n",
              "      <td>NaN</td>\n",
              "      <td>NaN</td>\n",
              "      <td>NaN</td>\n",
              "      <td>NaN</td>\n",
              "      <td>NaN</td>\n",
              "      <td>1861.0</td>\n",
              "      <td>1861.0</td>\n",
              "      <td>1249981.0</td>\n",
              "      <td>NaN</td>\n",
              "      <td>NaN</td>\n",
              "      <td>NaN</td>\n",
              "      <td>5222.0</td>\n",
              "      <td>63.0</td>\n",
              "      <td>52.0</td>\n",
              "      <td>1946</td>\n",
              "      <td>72</td>\n",
              "      <td>68993.0</td>\n",
              "      <td>68993.0</td>\n",
              "      <td>0.0</td>\n",
              "      <td>0.000000e+00</td>\n",
              "      <td>0.967809</td>\n",
              "      <td>7.128785e+04</td>\n",
              "      <td>1.0</td>\n",
              "      <td>I</td>\n",
              "      <td>H</td>\n",
              "      <td>NaN</td>\n",
              "      <td>1</td>\n",
              "      <td>1</td>\n",
              "      <td>0</td>\n",
              "      <td>0</td>\n",
              "      <td>0</td>\n",
              "      <td>NaN</td>\n",
              "      <td>NaN</td>\n",
              "      <td>NaN</td>\n",
              "      <td>Közép-Magyarország</td>\n",
              "      <td>0.0</td>\n",
              "      <td>0</td>\n",
              "    </tr>\n",
              "    <tr>\n",
              "      <th>4</th>\n",
              "      <td>ft10010622</td>\n",
              "      <td>10010622</td>\n",
              "      <td>2018</td>\n",
              "      <td>53075.0</td>\n",
              "      <td>53075.0</td>\n",
              "      <td>5.386892e+04</td>\n",
              "      <td>0.0</td>\n",
              "      <td>24264.0</td>\n",
              "      <td>24264.0</td>\n",
              "      <td>3643317.0</td>\n",
              "      <td>3810.0</td>\n",
              "      <td>7282.0</td>\n",
              "      <td>0.0</td>\n",
              "      <td>0.000000e+00</td>\n",
              "      <td>1294.0</td>\n",
              "      <td>0.0</td>\n",
              "      <td>21812.0</td>\n",
              "      <td>1307.0</td>\n",
              "      <td>11859.0</td>\n",
              "      <td>0.0</td>\n",
              "      <td>387.0</td>\n",
              "      <td>8259.0</td>\n",
              "      <td>5400.0</td>\n",
              "      <td>5.480775e+03</td>\n",
              "      <td>6544.0</td>\n",
              "      <td>6544.0</td>\n",
              "      <td>6.641888e+03</td>\n",
              "      <td>10838.0</td>\n",
              "      <td>10838.0</td>\n",
              "      <td>5364.0</td>\n",
              "      <td>9811.0</td>\n",
              "      <td>72130.0</td>\n",
              "      <td>1760500.0</td>\n",
              "      <td>NaN</td>\n",
              "      <td>NaN</td>\n",
              "      <td>NaN</td>\n",
              "      <td>NaN</td>\n",
              "      <td>NaN</td>\n",
              "      <td>0.0</td>\n",
              "      <td>0.0</td>\n",
              "      <td>3632192.0</td>\n",
              "      <td>NaN</td>\n",
              "      <td>NaN</td>\n",
              "      <td>NaN</td>\n",
              "      <td>6420.0</td>\n",
              "      <td>65.0</td>\n",
              "      <td>64.0</td>\n",
              "      <td>1950</td>\n",
              "      <td>68</td>\n",
              "      <td>31263.0</td>\n",
              "      <td>31263.0</td>\n",
              "      <td>6753.0</td>\n",
              "      <td>6.854014e+03</td>\n",
              "      <td>0.985262</td>\n",
              "      <td>3.173064e+04</td>\n",
              "      <td>1.0</td>\n",
              "      <td>J</td>\n",
              "      <td>K</td>\n",
              "      <td>NaN</td>\n",
              "      <td>0</td>\n",
              "      <td>0</td>\n",
              "      <td>0</td>\n",
              "      <td>1</td>\n",
              "      <td>0</td>\n",
              "      <td>NaN</td>\n",
              "      <td>NaN</td>\n",
              "      <td>NaN</td>\n",
              "      <td>Közép-Magyarország</td>\n",
              "      <td>0.0</td>\n",
              "      <td>0</td>\n",
              "    </tr>\n",
              "    <tr>\n",
              "      <th>...</th>\n",
              "      <td>...</td>\n",
              "      <td>...</td>\n",
              "      <td>...</td>\n",
              "      <td>...</td>\n",
              "      <td>...</td>\n",
              "      <td>...</td>\n",
              "      <td>...</td>\n",
              "      <td>...</td>\n",
              "      <td>...</td>\n",
              "      <td>...</td>\n",
              "      <td>...</td>\n",
              "      <td>...</td>\n",
              "      <td>...</td>\n",
              "      <td>...</td>\n",
              "      <td>...</td>\n",
              "      <td>...</td>\n",
              "      <td>...</td>\n",
              "      <td>...</td>\n",
              "      <td>...</td>\n",
              "      <td>...</td>\n",
              "      <td>...</td>\n",
              "      <td>...</td>\n",
              "      <td>...</td>\n",
              "      <td>...</td>\n",
              "      <td>...</td>\n",
              "      <td>...</td>\n",
              "      <td>...</td>\n",
              "      <td>...</td>\n",
              "      <td>...</td>\n",
              "      <td>...</td>\n",
              "      <td>...</td>\n",
              "      <td>...</td>\n",
              "      <td>...</td>\n",
              "      <td>...</td>\n",
              "      <td>...</td>\n",
              "      <td>...</td>\n",
              "      <td>...</td>\n",
              "      <td>...</td>\n",
              "      <td>...</td>\n",
              "      <td>...</td>\n",
              "      <td>...</td>\n",
              "      <td>...</td>\n",
              "      <td>...</td>\n",
              "      <td>...</td>\n",
              "      <td>...</td>\n",
              "      <td>...</td>\n",
              "      <td>...</td>\n",
              "      <td>...</td>\n",
              "      <td>...</td>\n",
              "      <td>...</td>\n",
              "      <td>...</td>\n",
              "      <td>...</td>\n",
              "      <td>...</td>\n",
              "      <td>...</td>\n",
              "      <td>...</td>\n",
              "      <td>...</td>\n",
              "      <td>...</td>\n",
              "      <td>...</td>\n",
              "      <td>...</td>\n",
              "      <td>...</td>\n",
              "      <td>...</td>\n",
              "      <td>...</td>\n",
              "      <td>...</td>\n",
              "      <td>...</td>\n",
              "      <td>...</td>\n",
              "      <td>...</td>\n",
              "      <td>...</td>\n",
              "      <td>...</td>\n",
              "      <td>...</td>\n",
              "      <td>...</td>\n",
              "    </tr>\n",
              "    <tr>\n",
              "      <th>420013</th>\n",
              "      <td>ft29969359</td>\n",
              "      <td>29969359</td>\n",
              "      <td>2018</td>\n",
              "      <td>26175.0</td>\n",
              "      <td>26175.0</td>\n",
              "      <td>2.816517e+04</td>\n",
              "      <td>1.0</td>\n",
              "      <td>2142.0</td>\n",
              "      <td>2142.0</td>\n",
              "      <td>16086.0</td>\n",
              "      <td>1337.0</td>\n",
              "      <td>7659.0</td>\n",
              "      <td>NaN</td>\n",
              "      <td>NaN</td>\n",
              "      <td>821.0</td>\n",
              "      <td>0.0</td>\n",
              "      <td>19730.0</td>\n",
              "      <td>NaN</td>\n",
              "      <td>NaN</td>\n",
              "      <td>NaN</td>\n",
              "      <td>NaN</td>\n",
              "      <td>NaN</td>\n",
              "      <td>NaN</td>\n",
              "      <td>NaN</td>\n",
              "      <td>6075.0</td>\n",
              "      <td>6075.0</td>\n",
              "      <td>6.536902e+03</td>\n",
              "      <td>304.0</td>\n",
              "      <td>304.0</td>\n",
              "      <td>217.0</td>\n",
              "      <td>670.0</td>\n",
              "      <td>607.0</td>\n",
              "      <td>2503.0</td>\n",
              "      <td>NaN</td>\n",
              "      <td>NaN</td>\n",
              "      <td>NaN</td>\n",
              "      <td>NaN</td>\n",
              "      <td>NaN</td>\n",
              "      <td>0.0</td>\n",
              "      <td>0.0</td>\n",
              "      <td>7090.0</td>\n",
              "      <td>NaN</td>\n",
              "      <td>NaN</td>\n",
              "      <td>NaN</td>\n",
              "      <td>4321.0</td>\n",
              "      <td>45.0</td>\n",
              "      <td>43.0</td>\n",
              "      <td>1983</td>\n",
              "      <td>35</td>\n",
              "      <td>6445.0</td>\n",
              "      <td>6445.0</td>\n",
              "      <td>55.0</td>\n",
              "      <td>5.918183e+01</td>\n",
              "      <td>0.929339</td>\n",
              "      <td>6.935034e+03</td>\n",
              "      <td>14.0</td>\n",
              "      <td>F</td>\n",
              "      <td>F</td>\n",
              "      <td>NaN</td>\n",
              "      <td>0</td>\n",
              "      <td>0</td>\n",
              "      <td>0</td>\n",
              "      <td>1</td>\n",
              "      <td>0</td>\n",
              "      <td>NaN</td>\n",
              "      <td>NaN</td>\n",
              "      <td>NaN</td>\n",
              "      <td>Dél-Dunántúl</td>\n",
              "      <td>0.0</td>\n",
              "      <td>0</td>\n",
              "    </tr>\n",
              "    <tr>\n",
              "      <th>420014</th>\n",
              "      <td>ft29970627</td>\n",
              "      <td>29970627</td>\n",
              "      <td>2018</td>\n",
              "      <td>20463.0</td>\n",
              "      <td>20463.0</td>\n",
              "      <td>2.140826e+04</td>\n",
              "      <td>2.0</td>\n",
              "      <td>612.0</td>\n",
              "      <td>612.0</td>\n",
              "      <td>9544.0</td>\n",
              "      <td>1071.0</td>\n",
              "      <td>4686.0</td>\n",
              "      <td>NaN</td>\n",
              "      <td>NaN</td>\n",
              "      <td>2.0</td>\n",
              "      <td>0.0</td>\n",
              "      <td>6730.0</td>\n",
              "      <td>NaN</td>\n",
              "      <td>NaN</td>\n",
              "      <td>NaN</td>\n",
              "      <td>NaN</td>\n",
              "      <td>NaN</td>\n",
              "      <td>NaN</td>\n",
              "      <td>NaN</td>\n",
              "      <td>11115.0</td>\n",
              "      <td>11115.0</td>\n",
              "      <td>1.162844e+04</td>\n",
              "      <td>80.0</td>\n",
              "      <td>80.0</td>\n",
              "      <td>342.0</td>\n",
              "      <td>2198.0</td>\n",
              "      <td>2199.0</td>\n",
              "      <td>1600.0</td>\n",
              "      <td>NaN</td>\n",
              "      <td>NaN</td>\n",
              "      <td>NaN</td>\n",
              "      <td>NaN</td>\n",
              "      <td>NaN</td>\n",
              "      <td>0.0</td>\n",
              "      <td>0.0</td>\n",
              "      <td>3787.0</td>\n",
              "      <td>NaN</td>\n",
              "      <td>NaN</td>\n",
              "      <td>NaN</td>\n",
              "      <td>2561.0</td>\n",
              "      <td>28.0</td>\n",
              "      <td>25.0</td>\n",
              "      <td>1982</td>\n",
              "      <td>36</td>\n",
              "      <td>13733.0</td>\n",
              "      <td>13733.0</td>\n",
              "      <td>121.0</td>\n",
              "      <td>1.265894e+02</td>\n",
              "      <td>0.955846</td>\n",
              "      <td>1.436738e+04</td>\n",
              "      <td>3.0</td>\n",
              "      <td>D</td>\n",
              "      <td>C</td>\n",
              "      <td>NaN</td>\n",
              "      <td>0</td>\n",
              "      <td>0</td>\n",
              "      <td>0</td>\n",
              "      <td>1</td>\n",
              "      <td>0</td>\n",
              "      <td>NaN</td>\n",
              "      <td>NaN</td>\n",
              "      <td>NaN</td>\n",
              "      <td>Dél-Alföld</td>\n",
              "      <td>0.0</td>\n",
              "      <td>0</td>\n",
              "    </tr>\n",
              "    <tr>\n",
              "      <th>420015</th>\n",
              "      <td>ft29970634</td>\n",
              "      <td>29970634</td>\n",
              "      <td>2018</td>\n",
              "      <td>2714.0</td>\n",
              "      <td>2714.0</td>\n",
              "      <td>2.773334e+03</td>\n",
              "      <td>0.0</td>\n",
              "      <td>26.0</td>\n",
              "      <td>26.0</td>\n",
              "      <td>355.0</td>\n",
              "      <td>0.0</td>\n",
              "      <td>7.0</td>\n",
              "      <td>NaN</td>\n",
              "      <td>NaN</td>\n",
              "      <td>1.0</td>\n",
              "      <td>0.0</td>\n",
              "      <td>2286.0</td>\n",
              "      <td>NaN</td>\n",
              "      <td>NaN</td>\n",
              "      <td>NaN</td>\n",
              "      <td>NaN</td>\n",
              "      <td>NaN</td>\n",
              "      <td>NaN</td>\n",
              "      <td>NaN</td>\n",
              "      <td>88.0</td>\n",
              "      <td>88.0</td>\n",
              "      <td>8.992387e+01</td>\n",
              "      <td>157.0</td>\n",
              "      <td>157.0</td>\n",
              "      <td>49.0</td>\n",
              "      <td>135.0</td>\n",
              "      <td>135.0</td>\n",
              "      <td>1.0</td>\n",
              "      <td>NaN</td>\n",
              "      <td>NaN</td>\n",
              "      <td>NaN</td>\n",
              "      <td>NaN</td>\n",
              "      <td>NaN</td>\n",
              "      <td>0.0</td>\n",
              "      <td>0.0</td>\n",
              "      <td>319.0</td>\n",
              "      <td>NaN</td>\n",
              "      <td>NaN</td>\n",
              "      <td>NaN</td>\n",
              "      <td>3312.0</td>\n",
              "      <td>29.0</td>\n",
              "      <td>33.0</td>\n",
              "      <td>1982</td>\n",
              "      <td>36</td>\n",
              "      <td>428.0</td>\n",
              "      <td>428.0</td>\n",
              "      <td>12.0</td>\n",
              "      <td>1.226235e+01</td>\n",
              "      <td>0.978606</td>\n",
              "      <td>4.373570e+02</td>\n",
              "      <td>3.0</td>\n",
              "      <td>D</td>\n",
              "      <td>C</td>\n",
              "      <td>NaN</td>\n",
              "      <td>0</td>\n",
              "      <td>0</td>\n",
              "      <td>0</td>\n",
              "      <td>1</td>\n",
              "      <td>0</td>\n",
              "      <td>NaN</td>\n",
              "      <td>NaN</td>\n",
              "      <td>NaN</td>\n",
              "      <td>Dél-Alföld</td>\n",
              "      <td>0.0</td>\n",
              "      <td>0</td>\n",
              "    </tr>\n",
              "    <tr>\n",
              "      <th>420016</th>\n",
              "      <td>ft29985119</td>\n",
              "      <td>29985119</td>\n",
              "      <td>2018</td>\n",
              "      <td>1570.0</td>\n",
              "      <td>1570.0</td>\n",
              "      <td>1.651950e+03</td>\n",
              "      <td>0.0</td>\n",
              "      <td>0.0</td>\n",
              "      <td>0.0</td>\n",
              "      <td>1507.0</td>\n",
              "      <td>0.0</td>\n",
              "      <td>645.0</td>\n",
              "      <td>NaN</td>\n",
              "      <td>NaN</td>\n",
              "      <td>3954.0</td>\n",
              "      <td>0.0</td>\n",
              "      <td>727.0</td>\n",
              "      <td>NaN</td>\n",
              "      <td>NaN</td>\n",
              "      <td>NaN</td>\n",
              "      <td>NaN</td>\n",
              "      <td>NaN</td>\n",
              "      <td>NaN</td>\n",
              "      <td>NaN</td>\n",
              "      <td>135.0</td>\n",
              "      <td>135.0</td>\n",
              "      <td>1.420467e+02</td>\n",
              "      <td>0.0</td>\n",
              "      <td>0.0</td>\n",
              "      <td>61.0</td>\n",
              "      <td>4601.0</td>\n",
              "      <td>4601.0</td>\n",
              "      <td>120.0</td>\n",
              "      <td>NaN</td>\n",
              "      <td>NaN</td>\n",
              "      <td>NaN</td>\n",
              "      <td>NaN</td>\n",
              "      <td>NaN</td>\n",
              "      <td>0.0</td>\n",
              "      <td>0.0</td>\n",
              "      <td>862.0</td>\n",
              "      <td>NaN</td>\n",
              "      <td>NaN</td>\n",
              "      <td>NaN</td>\n",
              "      <td>7219.0</td>\n",
              "      <td>73.0</td>\n",
              "      <td>72.0</td>\n",
              "      <td>1989</td>\n",
              "      <td>29</td>\n",
              "      <td>843.0</td>\n",
              "      <td>843.0</td>\n",
              "      <td>207.0</td>\n",
              "      <td>2.178049e+02</td>\n",
              "      <td>0.950392</td>\n",
              "      <td>8.870025e+02</td>\n",
              "      <td>6.0</td>\n",
              "      <td>K</td>\n",
              "      <td>M</td>\n",
              "      <td>NaN</td>\n",
              "      <td>0</td>\n",
              "      <td>0</td>\n",
              "      <td>0</td>\n",
              "      <td>1</td>\n",
              "      <td>0</td>\n",
              "      <td>NaN</td>\n",
              "      <td>NaN</td>\n",
              "      <td>NaN</td>\n",
              "      <td>Dél-Alföld</td>\n",
              "      <td>0.0</td>\n",
              "      <td>0</td>\n",
              "    </tr>\n",
              "    <tr>\n",
              "      <th>420017</th>\n",
              "      <td>ft29988545</td>\n",
              "      <td>29988545</td>\n",
              "      <td>2018</td>\n",
              "      <td>54241.0</td>\n",
              "      <td>54241.0</td>\n",
              "      <td>5.556410e+04</td>\n",
              "      <td>4.0</td>\n",
              "      <td>21371.0</td>\n",
              "      <td>21371.0</td>\n",
              "      <td>45832.0</td>\n",
              "      <td>0.0</td>\n",
              "      <td>24262.0</td>\n",
              "      <td>NaN</td>\n",
              "      <td>NaN</td>\n",
              "      <td>11.0</td>\n",
              "      <td>0.0</td>\n",
              "      <td>11711.0</td>\n",
              "      <td>NaN</td>\n",
              "      <td>NaN</td>\n",
              "      <td>NaN</td>\n",
              "      <td>NaN</td>\n",
              "      <td>NaN</td>\n",
              "      <td>NaN</td>\n",
              "      <td>NaN</td>\n",
              "      <td>38678.0</td>\n",
              "      <td>38678.0</td>\n",
              "      <td>3.962147e+04</td>\n",
              "      <td>3920.0</td>\n",
              "      <td>3920.0</td>\n",
              "      <td>1305.0</td>\n",
              "      <td>-1362.0</td>\n",
              "      <td>-1362.0</td>\n",
              "      <td>10.0</td>\n",
              "      <td>NaN</td>\n",
              "      <td>NaN</td>\n",
              "      <td>NaN</td>\n",
              "      <td>NaN</td>\n",
              "      <td>NaN</td>\n",
              "      <td>0.0</td>\n",
              "      <td>0.0</td>\n",
              "      <td>21570.0</td>\n",
              "      <td>NaN</td>\n",
              "      <td>NaN</td>\n",
              "      <td>NaN</td>\n",
              "      <td>7112.0</td>\n",
              "      <td>74.0</td>\n",
              "      <td>71.0</td>\n",
              "      <td>1982</td>\n",
              "      <td>36</td>\n",
              "      <td>42530.0</td>\n",
              "      <td>42530.0</td>\n",
              "      <td>98.0</td>\n",
              "      <td>1.003905e+02</td>\n",
              "      <td>0.976188</td>\n",
              "      <td>4.356743e+04</td>\n",
              "      <td>3.0</td>\n",
              "      <td>K</td>\n",
              "      <td>M</td>\n",
              "      <td>NaN</td>\n",
              "      <td>0</td>\n",
              "      <td>0</td>\n",
              "      <td>0</td>\n",
              "      <td>1</td>\n",
              "      <td>0</td>\n",
              "      <td>NaN</td>\n",
              "      <td>NaN</td>\n",
              "      <td>NaN</td>\n",
              "      <td>Dél-Alföld</td>\n",
              "      <td>0.0</td>\n",
              "      <td>0</td>\n",
              "    </tr>\n",
              "  </tbody>\n",
              "</table>\n",
              "<p>332643 rows × 70 columns</p>\n",
              "</div>"
            ],
            "text/plain": [
              "          frame_id  originalid  ...  final_netgep  final_gep_jarmu_ktg\n",
              "0       ft10000537    10000537  ...           0.0                    0\n",
              "1       ft10003035    10003035  ...    14105000.0                    0\n",
              "2       ft10008676    10008676  ...    51125162.0                    0\n",
              "3       ft10008999    10008999  ...           0.0                    0\n",
              "4       ft10010622    10010622  ...           0.0                    0\n",
              "...            ...         ...  ...           ...                  ...\n",
              "420013  ft29969359    29969359  ...           0.0                    0\n",
              "420014  ft29970627    29970627  ...           0.0                    0\n",
              "420015  ft29970634    29970634  ...           0.0                    0\n",
              "420016  ft29985119    29985119  ...           0.0                    0\n",
              "420017  ft29988545    29988545  ...           0.0                    0\n",
              "\n",
              "[332643 rows x 70 columns]"
            ]
          },
          "metadata": {},
          "execution_count": 5
        }
      ]
    },
    {
      "cell_type": "code",
      "metadata": {
        "id": "jtj-QlYNeToG"
      },
      "source": [
        "sales_tax_df = df2018[['sales', 'eszk', 'tax']]"
      ],
      "execution_count": 6,
      "outputs": []
    },
    {
      "cell_type": "code",
      "metadata": {
        "colab": {
          "base_uri": "https://localhost:8080/"
        },
        "id": "f6VaFfp8e9mh",
        "outputId": "5577a617-140b-481f-e95e-6f8a91dbc205"
      },
      "source": [
        "len(sales_tax_df)"
      ],
      "execution_count": 7,
      "outputs": [
        {
          "output_type": "execute_result",
          "data": {
            "text/plain": [
              "332643"
            ]
          },
          "metadata": {},
          "execution_count": 7
        }
      ]
    },
    {
      "cell_type": "code",
      "metadata": {
        "id": "mgHEKFy6fVjk"
      },
      "source": [
        "sales_tax_df = sales_tax_df.dropna(subset=['eszk', 'tax'])"
      ],
      "execution_count": 8,
      "outputs": []
    },
    {
      "cell_type": "code",
      "metadata": {
        "colab": {
          "base_uri": "https://localhost:8080/"
        },
        "id": "mD16Qz70fcwt",
        "outputId": "a2ee8e3a-2bb9-4916-ee31-982fcbd92634"
      },
      "source": [
        "len(sales_tax_df)"
      ],
      "execution_count": 9,
      "outputs": [
        {
          "output_type": "execute_result",
          "data": {
            "text/plain": [
              "332611"
            ]
          },
          "metadata": {},
          "execution_count": 9
        }
      ]
    },
    {
      "cell_type": "code",
      "source": [
        "print('summmary stats for the sales')\n",
        "sum_stat = sales_tax_df['sales'].describe().apply('{0:.3f}'.format)\n",
        "print(sum_stat)"
      ],
      "metadata": {
        "colab": {
          "base_uri": "https://localhost:8080/"
        },
        "id": "UizJkhO-_-cz",
        "outputId": "907697e3-9243-4506-8903-1cbb41f13127"
      },
      "execution_count": 10,
      "outputs": [
        {
          "output_type": "stream",
          "name": "stdout",
          "text": [
            "summmary stats for the sales\n",
            "count        332611.000\n",
            "mean         315007.458\n",
            "std         8128448.452\n",
            "min               0.537\n",
            "25%            4611.000\n",
            "50%           18009.000\n",
            "75%           70773.500\n",
            "max      2371623338.000\n",
            "Name: sales, dtype: object\n"
          ]
        }
      ]
    },
    {
      "cell_type": "code",
      "source": [
        "print('summmary stats for the eszk')\n",
        "sum_stat = sales_tax_df['eszk'].describe().apply('{0:.3f}'.format)\n",
        "print(sum_stat)"
      ],
      "metadata": {
        "colab": {
          "base_uri": "https://localhost:8080/"
        },
        "id": "hvGiU3_8APSK",
        "outputId": "5f90b699-0594-4cc7-8b30-14ebe6aae60b"
      },
      "execution_count": 11,
      "outputs": [
        {
          "output_type": "stream",
          "name": "stdout",
          "text": [
            "summmary stats for the eszk\n",
            "count        332611.000\n",
            "mean         367100.083\n",
            "std        17064209.790\n",
            "min          -11512.000\n",
            "25%            5306.000\n",
            "50%           16525.000\n",
            "75%           61566.500\n",
            "max      6264442000.000\n",
            "Name: eszk, dtype: object\n"
          ]
        }
      ]
    },
    {
      "cell_type": "code",
      "source": [
        "print('summmary stats for the tax')\n",
        "sum_stat = sales_tax_df['tax'].describe().apply('{0:.3f}'.format)\n",
        "print(sum_stat)"
      ],
      "metadata": {
        "colab": {
          "base_uri": "https://localhost:8080/"
        },
        "id": "Id3E6Ft7ARfH",
        "outputId": "ef643198-cf13-45ad-cb05-be7412214b83"
      },
      "execution_count": 12,
      "outputs": [
        {
          "output_type": "stream",
          "name": "stdout",
          "text": [
            "summmary stats for the tax\n",
            "count      332611.000\n",
            "mean         1957.442\n",
            "std        117743.739\n",
            "min             0.000\n",
            "25%            18.000\n",
            "50%           114.000\n",
            "75%           576.000\n",
            "max      63639000.000\n",
            "Name: tax, dtype: object\n"
          ]
        }
      ]
    },
    {
      "cell_type": "code",
      "source": [
        "logSales = np.log(sales_tax_df[\"sales\"])\n",
        "plt.figure(figsize=(10,7))\n",
        "sns.set(style=\"whitegrid\")\n",
        "sns.distplot(logSales, bins = 30)"
      ],
      "metadata": {
        "colab": {
          "base_uri": "https://localhost:8080/",
          "height": 520
        },
        "id": "qleNwyTlqh3l",
        "outputId": "13f045ca-d0db-4199-c128-47f18b066c34"
      },
      "execution_count": 13,
      "outputs": [
        {
          "output_type": "stream",
          "name": "stderr",
          "text": [
            "/usr/local/lib/python3.7/dist-packages/seaborn/distributions.py:2619: FutureWarning: `distplot` is a deprecated function and will be removed in a future version. Please adapt your code to use either `displot` (a figure-level function with similar flexibility) or `histplot` (an axes-level function for histograms).\n",
            "  warnings.warn(msg, FutureWarning)\n"
          ]
        },
        {
          "output_type": "execute_result",
          "data": {
            "text/plain": [
              "<matplotlib.axes._subplots.AxesSubplot at 0x7f2585b3c710>"
            ]
          },
          "metadata": {},
          "execution_count": 13
        },
        {
          "output_type": "display_data",
          "data": {
            "image/png": "[encoded data removed]",
            "text/plain": [
              "<Figure size 720x504 with 1 Axes>"
            ]
          },
          "metadata": {
            "needs_background": "light"
          }
        }
      ]
    },
    {
      "cell_type": "code",
      "source": [
        "from sklearn import preprocessing\n",
        "from sklearn.preprocessing import PowerTransformer\n",
        "trialdf = pd.DataFrame(sales_tax_df, columns= [\"tax\"])\n",
        "pt = preprocessing.PowerTransformer(method='yeo-johnson')\n",
        "modified_price = pt.fit_transform(trialdf)\n",
        "sns.distplot(modified_price, bins = 30) "
      ],
      "metadata": {
        "colab": {
          "base_uri": "https://localhost:8080/",
          "height": 343
        },
        "id": "BtLPyJq-rNd2",
        "outputId": "e9d3afe8-9c39-4067-af0c-98074e9245ff"
      },
      "execution_count": 14,
      "outputs": [
        {
          "output_type": "stream",
          "name": "stderr",
          "text": [
            "/usr/local/lib/python3.7/dist-packages/seaborn/distributions.py:2619: FutureWarning: `distplot` is a deprecated function and will be removed in a future version. Please adapt your code to use either `displot` (a figure-level function with similar flexibility) or `histplot` (an axes-level function for histograms).\n",
            "  warnings.warn(msg, FutureWarning)\n"
          ]
        },
        {
          "output_type": "execute_result",
          "data": {
            "text/plain": [
              "<matplotlib.axes._subplots.AxesSubplot at 0x7f2585bec550>"
            ]
          },
          "metadata": {},
          "execution_count": 14
        },
        {
          "output_type": "display_data",
          "data": {
            "image/png": "[encoded data removed]",
            "text/plain": [
              "<Figure size 432x288 with 1 Axes>"
            ]
          },
          "metadata": {}
        }
      ]
    },
    {
      "cell_type": "markdown",
      "metadata": {
        "id": "8LPRDlrYcEZD"
      },
      "source": [
        "# Bootstrapping\n"
      ]
    },
    {
      "cell_type": "code",
      "metadata": {
        "id": "dUpJTNxtcEZE"
      },
      "source": [
        "from collections import defaultdict"
      ],
      "execution_count": 15,
      "outputs": []
    },
    {
      "cell_type": "code",
      "metadata": {
        "id": "pN8XvnZrcEZF"
      },
      "source": [
        "sample_size_lst = [10000]"
      ],
      "execution_count": 16,
      "outputs": []
    },
    {
      "cell_type": "code",
      "metadata": {
        "id": "KiifdJo4cEZG"
      },
      "source": [
        "my_dict = defaultdict(lambda: defaultdict(lambda: defaultdict(lambda: defaultdict(dict))))"
      ],
      "execution_count": 17,
      "outputs": []
    },
    {
      "cell_type": "code",
      "source": [
        "np.random.seed(69)\n",
        "sales = sales_tax_df['sales'].to_numpy()\n",
        "sample = np.random.choice(sales, size = 6000, replace = False)"
      ],
      "metadata": {
        "id": "0oglF0fkBmt7"
      },
      "execution_count": 18,
      "outputs": []
    },
    {
      "cell_type": "code",
      "source": [
        "sales_tax_df.sample(n=100, replace=True, random_state=42)"
      ],
      "metadata": {
        "colab": {
          "base_uri": "https://localhost:8080/",
          "height": 424
        },
        "id": "imIdCUKzRfj9",
        "outputId": "e93bf23d-6b18-4e56-d91c-8e0b51dde230"
      },
      "execution_count": 19,
      "outputs": [
        {
          "output_type": "execute_result",
          "data": {
            "text/html": [
              "<div>\n",
              "<style scoped>\n",
              "    .dataframe tbody tr th:only-of-type {\n",
              "        vertical-align: middle;\n",
              "    }\n",
              "\n",
              "    .dataframe tbody tr th {\n",
              "        vertical-align: top;\n",
              "    }\n",
              "\n",
              "    .dataframe thead th {\n",
              "        text-align: right;\n",
              "    }\n",
              "</style>\n",
              "<table border=\"1\" class=\"dataframe\">\n",
              "  <thead>\n",
              "    <tr style=\"text-align: right;\">\n",
              "      <th></th>\n",
              "      <th>sales</th>\n",
              "      <th>eszk</th>\n",
              "      <th>tax</th>\n",
              "    </tr>\n",
              "  </thead>\n",
              "  <tbody>\n",
              "    <tr>\n",
              "      <th>145594</th>\n",
              "      <td>38054.0</td>\n",
              "      <td>9602.0</td>\n",
              "      <td>893.0</td>\n",
              "    </tr>\n",
              "    <tr>\n",
              "      <th>176591</th>\n",
              "      <td>14708.0</td>\n",
              "      <td>2424.0</td>\n",
              "      <td>30.0</td>\n",
              "    </tr>\n",
              "    <tr>\n",
              "      <th>157652</th>\n",
              "      <td>115624.0</td>\n",
              "      <td>84042.0</td>\n",
              "      <td>209.0</td>\n",
              "    </tr>\n",
              "    <tr>\n",
              "      <th>319975</th>\n",
              "      <td>10463.0</td>\n",
              "      <td>3775.0</td>\n",
              "      <td>19.0</td>\n",
              "    </tr>\n",
              "    <tr>\n",
              "      <th>143030</th>\n",
              "      <td>229532.0</td>\n",
              "      <td>96604.0</td>\n",
              "      <td>1298.0</td>\n",
              "    </tr>\n",
              "    <tr>\n",
              "      <th>...</th>\n",
              "      <td>...</td>\n",
              "      <td>...</td>\n",
              "      <td>...</td>\n",
              "    </tr>\n",
              "    <tr>\n",
              "      <th>159907</th>\n",
              "      <td>206774.0</td>\n",
              "      <td>84948.0</td>\n",
              "      <td>1291.0</td>\n",
              "    </tr>\n",
              "    <tr>\n",
              "      <th>148514</th>\n",
              "      <td>2438.0</td>\n",
              "      <td>4503.0</td>\n",
              "      <td>902.0</td>\n",
              "    </tr>\n",
              "    <tr>\n",
              "      <th>222197</th>\n",
              "      <td>4041.0</td>\n",
              "      <td>2432.0</td>\n",
              "      <td>73.0</td>\n",
              "    </tr>\n",
              "    <tr>\n",
              "      <th>162979</th>\n",
              "      <td>14847.0</td>\n",
              "      <td>35308.0</td>\n",
              "      <td>69.0</td>\n",
              "    </tr>\n",
              "    <tr>\n",
              "      <th>373374</th>\n",
              "      <td>24679.0</td>\n",
              "      <td>4900.0</td>\n",
              "      <td>18.0</td>\n",
              "    </tr>\n",
              "  </tbody>\n",
              "</table>\n",
              "<p>100 rows × 3 columns</p>\n",
              "</div>"
            ],
            "text/plain": [
              "           sales     eszk     tax\n",
              "145594   38054.0   9602.0   893.0\n",
              "176591   14708.0   2424.0    30.0\n",
              "157652  115624.0  84042.0   209.0\n",
              "319975   10463.0   3775.0    19.0\n",
              "143030  229532.0  96604.0  1298.0\n",
              "...          ...      ...     ...\n",
              "159907  206774.0  84948.0  1291.0\n",
              "148514    2438.0   4503.0   902.0\n",
              "222197    4041.0   2432.0    73.0\n",
              "162979   14847.0  35308.0    69.0\n",
              "373374   24679.0   4900.0    18.0\n",
              "\n",
              "[100 rows x 3 columns]"
            ]
          },
          "metadata": {},
          "execution_count": 19
        }
      ]
    },
    {
      "cell_type": "code",
      "source": [
        "sample_mean_sales = []\n",
        "sample_std_sales = [] \n",
        "sample_median_sales = []\n",
        "sample_corr_sales_eszk = []\n",
        "sample_corr_sales_tax = []\n",
        "sample_corr_eszk_tax = []\n",
        "sample_r2 = []\n",
        "\n",
        "for ss in sample_size_lst: \n",
        "    sales_tax_sample_df = sales_tax_df.sample(n=ss, replace=False, random_state=42)\n",
        "    for _ in range(10000):\n",
        "        sample_df = sales_tax_sample_df.sample(n=ss, replace=True)\n",
        "        #sales_only = sample_df['sales'].to_numpy()\n",
        "        #sales_temp = np.random.choice(sales_only, size=ss, replace = True)\n",
        "        sample_mean_sales.append(np.mean(sample_df['sales']))\n",
        "        sample_std_sales.append(np.std(sample_df['sales']))\n",
        "        sample_median_sales.append(np.median(sample_df['sales']))\n",
        "        sample_corr_sales_eszk.append(sample_df['sales'].corr(sample_df['eszk']))\n",
        "        sample_corr_sales_tax.append(sample_df['sales'].corr(sample_df['tax']))\n",
        "        sample_corr_eszk_tax.append(sample_df['eszk'].corr(sample_df['tax']))\n",
        "\n",
        "        sample_r2.append( sm.OLS(sample_df['sales'], sample_df.iloc[:,1:]).fit().rsquared)\n",
        "        \n",
        "\n",
        "\n",
        "\n",
        "\n"
      ],
      "metadata": {
        "id": "xfrbLOdjB2KV"
      },
      "execution_count": 26,
      "outputs": []
    },
    {
      "cell_type": "code",
      "source": [
        "sales_tax_sample_df['sales'].mean()"
      ],
      "metadata": {
        "colab": {
          "base_uri": "https://localhost:8080/"
        },
        "id": "iqUQbPrFB7fp",
        "outputId": "67a7c797-8d06-4fb9-913a-93bcb453421b"
      },
      "execution_count": 36,
      "outputs": [
        {
          "output_type": "execute_result",
          "data": {
            "text/plain": [
              "539497.8485325"
            ]
          },
          "metadata": {},
          "execution_count": 36
        }
      ]
    },
    {
      "cell_type": "code",
      "source": [
        "np.mean(sample_mean_sales)"
      ],
      "metadata": {
        "colab": {
          "base_uri": "https://localhost:8080/"
        },
        "id": "L9kgZFZyBP9W",
        "outputId": "56d1c9b4-2167-41b0-f40c-427ff67c24de"
      },
      "execution_count": 28,
      "outputs": [
        {
          "output_type": "execute_result",
          "data": {
            "text/plain": [
              "542821.211002052"
            ]
          },
          "metadata": {},
          "execution_count": 28
        }
      ]
    },
    {
      "cell_type": "code",
      "source": [
        "plt.hist(sample_mean_sales)"
      ],
      "metadata": {
        "colab": {
          "base_uri": "https://localhost:8080/",
          "height": 385
        },
        "id": "qelwI8xYAkbW",
        "outputId": "965c5fbe-a07e-4375-fae6-b35dd0dfff15"
      },
      "execution_count": 27,
      "outputs": [
        {
          "output_type": "execute_result",
          "data": {
            "text/plain": [
              "(array([3.195e+03, 2.096e+03, 2.081e+03, 1.787e+03, 6.160e+02, 1.310e+02,\n",
              "        6.400e+01, 2.200e+01, 6.000e+00, 2.000e+00]),\n",
              " array([ 165338.5108425,  348462.2137915,  531585.9167405,  714709.6196895,\n",
              "         897833.3226385, 1080957.0255875, 1264080.7285365, 1447204.4314855,\n",
              "        1630328.1344345, 1813451.8373835, 1996575.5403325]),\n",
              " <a list of 10 Patch objects>)"
            ]
          },
          "metadata": {},
          "execution_count": 27
        },
        {
          "output_type": "display_data",
          "data": {
            "image/png": "[encoded data removed]",
            "text/plain": [
              "<Figure size 432x288 with 1 Axes>"
            ]
          },
          "metadata": {}
        }
      ]
    },
    {
      "cell_type": "code",
      "source": [
        "plt.hist(sample_median_sales)"
      ],
      "metadata": {
        "colab": {
          "base_uri": "https://localhost:8080/",
          "height": 355
        },
        "id": "GZ1fQdAXdayX",
        "outputId": "df16818b-4ecb-4341-b6a8-31138248fdbd"
      },
      "execution_count": 29,
      "outputs": [
        {
          "output_type": "execute_result",
          "data": {
            "text/plain": [
              "(array([3.000e+00, 3.400e+01, 2.720e+02, 1.124e+03, 2.405e+03, 3.314e+03,\n",
              "        1.758e+03, 9.100e+02, 1.620e+02, 1.800e+01]),\n",
              " array([16589. , 16937.9, 17286.8, 17635.7, 17984.6, 18333.5, 18682.4,\n",
              "        19031.3, 19380.2, 19729.1, 20078. ]),\n",
              " <a list of 10 Patch objects>)"
            ]
          },
          "metadata": {},
          "execution_count": 29
        },
        {
          "output_type": "display_data",
          "data": {
            "image/png": "[encoded data removed]",
            "text/plain": [
              "<Figure size 432x288 with 1 Axes>"
            ]
          },
          "metadata": {}
        }
      ]
    },
    {
      "cell_type": "code",
      "source": [
        "np.mean(sample_median_sales)"
      ],
      "metadata": {
        "colab": {
          "base_uri": "https://localhost:8080/"
        },
        "id": "b-k3YBbmVf7G",
        "outputId": "a6ef3880-1d01-429b-f2c1-7081d91b5262"
      },
      "execution_count": 30,
      "outputs": [
        {
          "output_type": "execute_result",
          "data": {
            "text/plain": [
              "18461.72795"
            ]
          },
          "metadata": {},
          "execution_count": 30
        }
      ]
    },
    {
      "cell_type": "code",
      "source": [
        "np.mean(sample_std_sales)"
      ],
      "metadata": {
        "colab": {
          "base_uri": "https://localhost:8080/"
        },
        "id": "AA5xcR0MYb_3",
        "outputId": "03f600ec-3ad6-4ce3-b0d7-e850c1de9a71"
      },
      "execution_count": 31,
      "outputs": [
        {
          "output_type": "execute_result",
          "data": {
            "text/plain": [
              "20152469.97722932"
            ]
          },
          "metadata": {},
          "execution_count": 31
        }
      ]
    },
    {
      "cell_type": "code",
      "source": [
        ""
      ],
      "metadata": {
        "id": "a2t4zLzlau2o"
      },
      "execution_count": null,
      "outputs": []
    },
    {
      "cell_type": "code",
      "metadata": {
        "id": "zHG1DfzvcEZI"
      },
      "source": [
        "for ss in sample_size_lst:\n",
        "    for reps in reps_lst: \n",
        "        for tab in tables_lst: \n",
        "            my_dict[ss][reps][tab] = None"
      ],
      "execution_count": null,
      "outputs": []
    },
    {
      "cell_type": "code",
      "metadata": {
        "id": "TN9s49J9cEZJ",
        "outputId": "92f7414d-10f9-4125-f24c-4d6fc0fa1d65"
      },
      "source": [
        "my_dict"
      ],
      "execution_count": null,
      "outputs": [
        {
          "data": {
            "text/plain": [
              "defaultdict(<function __main__.<lambda>()>,\n",
              "            {100: defaultdict(<function __main__.<lambda>.<locals>.<lambda>()>,\n",
              "                         {100: defaultdict(<function __main__.<lambda>.<locals>.<lambda>.<locals>.<lambda>()>,\n",
              "                                      {'sf': None,\n",
              "                                       'tr': None,\n",
              "                                       'trbs': None,\n",
              "                                       'bs': None}),\n",
              "                          1000: defaultdict(<function __main__.<lambda>.<locals>.<lambda>.<locals>.<lambda>()>,\n",
              "                                      {'sf': None,\n",
              "                                       'tr': None,\n",
              "                                       'trbs': None,\n",
              "                                       'bs': None}),\n",
              "                          10000: defaultdict(<function __main__.<lambda>.<locals>.<lambda>.<locals>.<lambda>()>,\n",
              "                                      {'sf': None,\n",
              "                                       'tr': None,\n",
              "                                       'trbs': None,\n",
              "                                       'bs': None}),\n",
              "                          50000: defaultdict(<function __main__.<lambda>.<locals>.<lambda>.<locals>.<lambda>()>,\n",
              "                                      {'sf': None,\n",
              "                                       'tr': None,\n",
              "                                       'trbs': None,\n",
              "                                       'bs': None})}),\n",
              "             500: defaultdict(<function __main__.<lambda>.<locals>.<lambda>()>,\n",
              "                         {100: defaultdict(<function __main__.<lambda>.<locals>.<lambda>.<locals>.<lambda>()>,\n",
              "                                      {'sf': None,\n",
              "                                       'tr': None,\n",
              "                                       'trbs': None,\n",
              "                                       'bs': None}),\n",
              "                          1000: defaultdict(<function __main__.<lambda>.<locals>.<lambda>.<locals>.<lambda>()>,\n",
              "                                      {'sf': None,\n",
              "                                       'tr': None,\n",
              "                                       'trbs': None,\n",
              "                                       'bs': None}),\n",
              "                          10000: defaultdict(<function __main__.<lambda>.<locals>.<lambda>.<locals>.<lambda>()>,\n",
              "                                      {'sf': None,\n",
              "                                       'tr': None,\n",
              "                                       'trbs': None,\n",
              "                                       'bs': None}),\n",
              "                          50000: defaultdict(<function __main__.<lambda>.<locals>.<lambda>.<locals>.<lambda>()>,\n",
              "                                      {'sf': None,\n",
              "                                       'tr': None,\n",
              "                                       'trbs': None,\n",
              "                                       'bs': None})}),\n",
              "             1000: defaultdict(<function __main__.<lambda>.<locals>.<lambda>()>,\n",
              "                         {100: defaultdict(<function __main__.<lambda>.<locals>.<lambda>.<locals>.<lambda>()>,\n",
              "                                      {'sf': None,\n",
              "                                       'tr': None,\n",
              "                                       'trbs': None,\n",
              "                                       'bs': None}),\n",
              "                          1000: defaultdict(<function __main__.<lambda>.<locals>.<lambda>.<locals>.<lambda>()>,\n",
              "                                      {'sf': None,\n",
              "                                       'tr': None,\n",
              "                                       'trbs': None,\n",
              "                                       'bs': None}),\n",
              "                          10000: defaultdict(<function __main__.<lambda>.<locals>.<lambda>.<locals>.<lambda>()>,\n",
              "                                      {'sf': None,\n",
              "                                       'tr': None,\n",
              "                                       'trbs': None,\n",
              "                                       'bs': None}),\n",
              "                          50000: defaultdict(<function __main__.<lambda>.<locals>.<lambda>.<locals>.<lambda>()>,\n",
              "                                      {'sf': None,\n",
              "                                       'tr': None,\n",
              "                                       'trbs': None,\n",
              "                                       'bs': None})}),\n",
              "             5000: defaultdict(<function __main__.<lambda>.<locals>.<lambda>()>,\n",
              "                         {100: defaultdict(<function __main__.<lambda>.<locals>.<lambda>.<locals>.<lambda>()>,\n",
              "                                      {'sf': None,\n",
              "                                       'tr': None,\n",
              "                                       'trbs': None,\n",
              "                                       'bs': None}),\n",
              "                          1000: defaultdict(<function __main__.<lambda>.<locals>.<lambda>.<locals>.<lambda>()>,\n",
              "                                      {'sf': None,\n",
              "                                       'tr': None,\n",
              "                                       'trbs': None,\n",
              "                                       'bs': None}),\n",
              "                          10000: defaultdict(<function __main__.<lambda>.<locals>.<lambda>.<locals>.<lambda>()>,\n",
              "                                      {'sf': None,\n",
              "                                       'tr': None,\n",
              "                                       'trbs': None,\n",
              "                                       'bs': None}),\n",
              "                          50000: defaultdict(<function __main__.<lambda>.<locals>.<lambda>.<locals>.<lambda>()>,\n",
              "                                      {'sf': None,\n",
              "                                       'tr': None,\n",
              "                                       'trbs': None,\n",
              "                                       'bs': None})})})"
            ]
          },
          "execution_count": 18,
          "metadata": {},
          "output_type": "execute_result"
        }
      ]
    },
    {
      "cell_type": "code",
      "metadata": {
        "id": "oR1WEY2RcEZK",
        "outputId": "72874182-551e-4063-bd84-71eda5d7e44b"
      },
      "source": [
        "df2018 = pd.read_csv('balance2018.csv')"
      ],
      "execution_count": null,
      "outputs": [
        {
          "name": "stderr",
          "output_type": "stream",
          "text": [
            "/home/phamv/.local/lib/python3.8/site-packages/IPython/core/interactiveshell.py:3444: DtypeWarning: Columns (66) have mixed types.Specify dtype option on import or set low_memory=False.\n",
            "  exec(code_obj, self.user_global_ns, self.user_ns)\n"
          ]
        }
      ]
    },
    {
      "cell_type": "code",
      "metadata": {
        "id": "Jir3qdU_cEZL"
      },
      "source": [
        "df2018 = df2018[df2018['sales'] != 0]"
      ],
      "execution_count": null,
      "outputs": []
    },
    {
      "cell_type": "code",
      "metadata": {
        "id": "kcAceSImcEZM"
      },
      "source": [
        "sales_df = df2018['sales'].astype(np.int64)"
      ],
      "execution_count": null,
      "outputs": []
    },
    {
      "cell_type": "code",
      "metadata": {
        "id": "oWtdnQAFcEZM",
        "outputId": "79382f02-6a28-4c97-cfb5-827a4dd56ef2"
      },
      "source": [
        "mu = sales_df.mean(skipna = True)\n",
        "print(f'mean sales = {mu:.3f}')"
      ],
      "execution_count": null,
      "outputs": [
        {
          "name": "stdout",
          "output_type": "stream",
          "text": [
            "mean sales = 318387.765\n"
          ]
        }
      ]
    },
    {
      "cell_type": "code",
      "metadata": {
        "id": "gYLHjRB3cEZN",
        "outputId": "f2e377a7-1a03-45f5-e5a2-dbb7a567d1f0"
      },
      "source": [
        "sigma = sales_df.std(skipna = True)\n",
        "print(f'std of sales = {sigma:.3f} \\n')\n",
        "\n",
        "print('summmary stats for the dataframe')\n",
        "sum_stat = df2018['sales'].describe().apply('{0:.3f}'.format)\n",
        "print(sum_stat)"
      ],
      "execution_count": null,
      "outputs": [
        {
          "name": "stdout",
          "output_type": "stream",
          "text": [
            "std of sales = 8196279.184 \n",
            "\n",
            "summmary stats for the dataframe\n",
            "count        332643.000\n",
            "mean         318387.765\n",
            "std         8196279.184\n",
            "min               0.537\n",
            "25%            4612.000\n",
            "50%           18012.000\n",
            "75%           70802.000\n",
            "max      2371623338.000\n",
            "Name: sales, dtype: object\n"
          ]
        }
      ]
    },
    {
      "cell_type": "code",
      "metadata": {
        "id": "FUBs-batcEZN"
      },
      "source": [
        "sales = sales_df.to_numpy()"
      ],
      "execution_count": null,
      "outputs": []
    },
    {
      "cell_type": "code",
      "metadata": {
        "id": "Fayw_cDgcEZN"
      },
      "source": [
        "from collections import defaultdict"
      ],
      "execution_count": null,
      "outputs": []
    },
    {
      "cell_type": "code",
      "metadata": {
        "id": "_15L6BvgcEZO"
      },
      "source": [
        "sample_size_lst = [100, 500, 1000, 5000]\n",
        "reps_lst = [100, 1000, 10000]\n",
        "tables_lst=['sf', 'tr', 'trbs', 'bs']"
      ],
      "execution_count": null,
      "outputs": []
    },
    {
      "cell_type": "code",
      "metadata": {
        "id": "FcjD8XbhcEZO"
      },
      "source": [
        "my_dict = defaultdict(lambda: defaultdict(lambda: defaultdict(dict)))"
      ],
      "execution_count": null,
      "outputs": []
    },
    {
      "cell_type": "code",
      "metadata": {
        "id": "FJabGM4_cEZO"
      },
      "source": [
        "for ss in sample_size_lst: \n",
        "    for reps in reps_lst: \n",
        "        for tab in tables_lst:\n",
        "            my_dict[ss][reps][tab] = None"
      ],
      "execution_count": null,
      "outputs": []
    },
    {
      "cell_type": "code",
      "metadata": {
        "id": "Sm6CxgvwcEZO",
        "outputId": "f6e0c6d3-0ae5-4fc0-c4cf-ce01dfc011de"
      },
      "source": [
        "my_dict"
      ],
      "execution_count": null,
      "outputs": [
        {
          "data": {
            "text/plain": [
              "defaultdict(<function __main__.<lambda>()>,\n",
              "            {100: defaultdict(<function __main__.<lambda>.<locals>.<lambda>()>,\n",
              "                         {100: defaultdict(dict,\n",
              "                                      {'sf': None,\n",
              "                                       'tr': None,\n",
              "                                       'trbs': None,\n",
              "                                       'bs': None}),\n",
              "                          1000: defaultdict(dict,\n",
              "                                      {'sf': None,\n",
              "                                       'tr': None,\n",
              "                                       'trbs': None,\n",
              "                                       'bs': None}),\n",
              "                          10000: defaultdict(dict,\n",
              "                                      {'sf': None,\n",
              "                                       'tr': None,\n",
              "                                       'trbs': None,\n",
              "                                       'bs': None})}),\n",
              "             500: defaultdict(<function __main__.<lambda>.<locals>.<lambda>()>,\n",
              "                         {100: defaultdict(dict,\n",
              "                                      {'sf': None,\n",
              "                                       'tr': None,\n",
              "                                       'trbs': None,\n",
              "                                       'bs': None}),\n",
              "                          1000: defaultdict(dict,\n",
              "                                      {'sf': None,\n",
              "                                       'tr': None,\n",
              "                                       'trbs': None,\n",
              "                                       'bs': None}),\n",
              "                          10000: defaultdict(dict,\n",
              "                                      {'sf': None,\n",
              "                                       'tr': None,\n",
              "                                       'trbs': None,\n",
              "                                       'bs': None})}),\n",
              "             1000: defaultdict(<function __main__.<lambda>.<locals>.<lambda>()>,\n",
              "                         {100: defaultdict(dict,\n",
              "                                      {'sf': None,\n",
              "                                       'tr': None,\n",
              "                                       'trbs': None,\n",
              "                                       'bs': None}),\n",
              "                          1000: defaultdict(dict,\n",
              "                                      {'sf': None,\n",
              "                                       'tr': None,\n",
              "                                       'trbs': None,\n",
              "                                       'bs': None}),\n",
              "                          10000: defaultdict(dict,\n",
              "                                      {'sf': None,\n",
              "                                       'tr': None,\n",
              "                                       'trbs': None,\n",
              "                                       'bs': None})}),\n",
              "             5000: defaultdict(<function __main__.<lambda>.<locals>.<lambda>()>,\n",
              "                         {100: defaultdict(dict,\n",
              "                                      {'sf': None,\n",
              "                                       'tr': None,\n",
              "                                       'trbs': None,\n",
              "                                       'bs': None}),\n",
              "                          1000: defaultdict(dict,\n",
              "                                      {'sf': None,\n",
              "                                       'tr': None,\n",
              "                                       'trbs': None,\n",
              "                                       'bs': None}),\n",
              "                          10000: defaultdict(dict,\n",
              "                                      {'sf': None,\n",
              "                                       'tr': None,\n",
              "                                       'trbs': None,\n",
              "                                       'bs': None})})})"
            ]
          },
          "execution_count": 31,
          "metadata": {},
          "output_type": "execute_result"
        }
      ]
    },
    {
      "cell_type": "code",
      "metadata": {
        "id": "UCYiERkycEZP"
      },
      "source": [
        "def create_empty_df(column_names):\n",
        "    df = pd.DataFrame(columns = column_names)\n",
        "    \n",
        "    return df "
      ],
      "execution_count": null,
      "outputs": []
    },
    {
      "cell_type": "code",
      "metadata": {
        "id": "9mddkuzBcEZP"
      },
      "source": [
        "np.random.seed(11)\n",
        "for ss in my_dict.keys():\n",
        "    sample = np.random.choice(sales, ss, replace = False)\n",
        "    xbar = np.mean(sample)\n",
        "    #print('xbar:', xbar)\n",
        "    s2 = np.std(sample)**2\n",
        "    #print('s2:', s2)\n",
        "    for reps in my_dict[ss].keys():\n",
        "        allxbar  = np.zeros((reps, 1))\n",
        "        alls2    = np.zeros((reps, 1))\n",
        "        u = np.random.random((ss,reps))\n",
        "        r = 0\n",
        "        while r < reps:\n",
        "            indices = np.floor(u[: ,r]*ss).astype(int) # (b x 1) vector of integers between 1 and n:\n",
        "        #these are the indices of master sample elements selected into the\n",
        "        #bootstrap sample\n",
        "            bsample = sample[indices]\n",
        "            allxbar[r] = np.mean(bsample)\n",
        "            alls2[r] = np.std(bsample)**2\n",
        "            r = r + 1\n",
        "        \n",
        "        for tab in my_dict[ss][reps].keys():\n",
        "            b = ss\n",
        "            if tab == 'sf': \n",
        "                sf_df = create_empty_df(['Statistics', 'Value', 'Sampl_Size','Bs_Resampl'])\n",
        "                sf_df['Statistics'] = ['xbar', 's-sqd']\n",
        "                sf_df['Value'] = [xbar, s2]\n",
        "                sf_df['Sampl_Size'] = [b, b]\n",
        "                sf_df['Bs_Resampl'] = [reps, reps]\n",
        "                my_dict[ss][reps][tab] = sf_df\n",
        "                \n",
        "                \n",
        "            if tab == 'tr':\n",
        "                tr_df = create_empty_df(['Estimator', 'Mean', 'Bias', 'Variance', 'MSE', 'Sampl_Size','Bs_Resampl'])\n",
        "                tr_df['Estimator'] = ['xbar', 's-sqd']\n",
        "                tr_df['Mean'] = [mu, (((b-1)/b)*sigma**2)]\n",
        "                tr_df['Bias'] = [0, ((sigma**2)/b)]\n",
        "                tr_df['Variance'] = [((sigma**2)/b), (2*(sigma**4)*(b-1)/(b**2))]\n",
        "                tr_df['MSE'] = [((sigma**2)/b), ((2*b-1)*(sigma**4)/(b**2))]\n",
        "                tr_df['Sampl_Size'] = [b, b]\n",
        "                tr_df['Bs_Resampl'] = [reps, reps]\n",
        "                \n",
        "                my_dict[ss][reps][tab] = tr_df\n",
        "                \n",
        "            \n",
        "            if tab == 'trbs':\n",
        "                trbs_df = create_empty_df(['Estimator', 'Mean', 'Bias', 'Variance', 'MSE', 'Sampl_Size','Bs_Resampl'])\n",
        "                trbs_df['Estimator'] = ['xbar', 's-sqd']\n",
        "                trbs_df['Mean'] = [xbar, (((b-1)/b)*s2)]\n",
        "                trbs_df['Bias'] = [0, s2/b]\n",
        "                trbs_df['Variance'] = [s2/b, (2*(s2**2)*(b-1)/(b**2))]\n",
        "                trbs_df['MSE'] = [s2/b, ((2*b-1)*(s2**2)/(b**2))]\n",
        "                trbs_df['Sampl_Size'] = [b, b]\n",
        "                trbs_df['Bs_Resampl'] = [reps, reps]\n",
        "                \n",
        "                my_dict[ss][reps][tab] = trbs_df\n",
        "                \n",
        "            if tab == 'bs': \n",
        "                bs_df = create_empty_df(['Estimator', 'Mean', 'Bias', 'Variance', 'MSE', 'Sampl_Size','Bs_Resampl'])\n",
        "                bs_df['Estimator'] = ['xbar', 's-sqd']\n",
        "                bs_df['Mean'] = [np.mean(allxbar), np.mean(alls2)]\n",
        "                bs_df['Bias'] = [np.abs(xbar-np.mean(allxbar)), np.abs(s2-np.mean(alls2))]\n",
        "                bs_df['Variance'] = [np.std(allxbar)**2, np.std(alls2)**2]\n",
        "                bs_df['MSE'] = [np.mean((allxbar-xbar)**2), np.mean((alls2-s2)**2)]\n",
        "                bs_df['Sampl_Size'] = [b, b]\n",
        "                bs_df['Bs_Resampl'] = [reps, reps]\n",
        "            \n",
        "                my_dict[ss][reps][tab] = bs_df\n",
        "        \n",
        "        \n",
        "        "
      ],
      "execution_count": null,
      "outputs": []
    },
    {
      "cell_type": "code",
      "metadata": {
        "id": "1h4fhxw4cEZQ",
        "outputId": "676afa7c-2011-44c4-926d-25954531c8a8"
      },
      "source": [
        "my_dict[5000][100]['tr']"
      ],
      "execution_count": null,
      "outputs": [
        {
          "data": {
            "text/html": [
              "<div>\n",
              "<style scoped>\n",
              "    .dataframe tbody tr th:only-of-type {\n",
              "        vertical-align: middle;\n",
              "    }\n",
              "\n",
              "    .dataframe tbody tr th {\n",
              "        vertical-align: top;\n",
              "    }\n",
              "\n",
              "    .dataframe thead th {\n",
              "        text-align: right;\n",
              "    }\n",
              "</style>\n",
              "<table border=\"1\" class=\"dataframe\">\n",
              "  <thead>\n",
              "    <tr style=\"text-align: right;\">\n",
              "      <th></th>\n",
              "      <th>Estimator</th>\n",
              "      <th>Mean</th>\n",
              "      <th>Bias</th>\n",
              "      <th>Variance</th>\n",
              "      <th>MSE</th>\n",
              "      <th>Sampl_Size</th>\n",
              "      <th>Bs_Resampl</th>\n",
              "    </tr>\n",
              "  </thead>\n",
              "  <tbody>\n",
              "    <tr>\n",
              "      <th>0</th>\n",
              "      <td>xbar</td>\n",
              "      <td>3.183878e+05</td>\n",
              "      <td>0.000000e+00</td>\n",
              "      <td>1.343580e+10</td>\n",
              "      <td>1.343580e+10</td>\n",
              "      <td>5000</td>\n",
              "      <td>100</td>\n",
              "    </tr>\n",
              "    <tr>\n",
              "      <th>1</th>\n",
              "      <td>s-sqd</td>\n",
              "      <td>6.716556e+13</td>\n",
              "      <td>1.343580e+10</td>\n",
              "      <td>1.804846e+24</td>\n",
              "      <td>1.805026e+24</td>\n",
              "      <td>5000</td>\n",
              "      <td>100</td>\n",
              "    </tr>\n",
              "  </tbody>\n",
              "</table>\n",
              "</div>"
            ],
            "text/plain": [
              "  Estimator          Mean          Bias      Variance           MSE  \\\n",
              "0      xbar  3.183878e+05  0.000000e+00  1.343580e+10  1.343580e+10   \n",
              "1     s-sqd  6.716556e+13  1.343580e+10  1.804846e+24  1.805026e+24   \n",
              "\n",
              "   Sampl_Size  Bs_Resampl  \n",
              "0        5000         100  \n",
              "1        5000         100  "
            ]
          },
          "execution_count": 34,
          "metadata": {},
          "output_type": "execute_result"
        }
      ]
    },
    {
      "cell_type": "code",
      "metadata": {
        "id": "0lgbRyj4cEZR",
        "outputId": "f66684e7-090c-4922-abad-fc3857e6dd00"
      },
      "source": [
        "my_dict[500][100]['sf']"
      ],
      "execution_count": null,
      "outputs": [
        {
          "data": {
            "text/html": [
              "<div>\n",
              "<style scoped>\n",
              "    .dataframe tbody tr th:only-of-type {\n",
              "        vertical-align: middle;\n",
              "    }\n",
              "\n",
              "    .dataframe tbody tr th {\n",
              "        vertical-align: top;\n",
              "    }\n",
              "\n",
              "    .dataframe thead th {\n",
              "        text-align: right;\n",
              "    }\n",
              "</style>\n",
              "<table border=\"1\" class=\"dataframe\">\n",
              "  <thead>\n",
              "    <tr style=\"text-align: right;\">\n",
              "      <th></th>\n",
              "      <th>Statistics</th>\n",
              "      <th>Value</th>\n",
              "      <th>Sampl_Size</th>\n",
              "      <th>Bs_Resampl</th>\n",
              "    </tr>\n",
              "  </thead>\n",
              "  <tbody>\n",
              "    <tr>\n",
              "      <th>0</th>\n",
              "      <td>xbar</td>\n",
              "      <td>1.355415e+05</td>\n",
              "      <td>500</td>\n",
              "      <td>100</td>\n",
              "    </tr>\n",
              "    <tr>\n",
              "      <th>1</th>\n",
              "      <td>s-sqd</td>\n",
              "      <td>1.495831e+11</td>\n",
              "      <td>500</td>\n",
              "      <td>100</td>\n",
              "    </tr>\n",
              "  </tbody>\n",
              "</table>\n",
              "</div>"
            ],
            "text/plain": [
              "  Statistics         Value  Sampl_Size  Bs_Resampl\n",
              "0       xbar  1.355415e+05         500         100\n",
              "1      s-sqd  1.495831e+11         500         100"
            ]
          },
          "execution_count": 187,
          "metadata": {},
          "output_type": "execute_result"
        }
      ]
    },
    {
      "cell_type": "code",
      "metadata": {
        "id": "_8xTmNcOcEZS",
        "outputId": "3580c573-6ba6-4408-b935-84f4f808c32f"
      },
      "source": [
        "my_dict[500][100]['trbs']"
      ],
      "execution_count": null,
      "outputs": [
        {
          "data": {
            "text/html": [
              "<div>\n",
              "<style scoped>\n",
              "    .dataframe tbody tr th:only-of-type {\n",
              "        vertical-align: middle;\n",
              "    }\n",
              "\n",
              "    .dataframe tbody tr th {\n",
              "        vertical-align: top;\n",
              "    }\n",
              "\n",
              "    .dataframe thead th {\n",
              "        text-align: right;\n",
              "    }\n",
              "</style>\n",
              "<table border=\"1\" class=\"dataframe\">\n",
              "  <thead>\n",
              "    <tr style=\"text-align: right;\">\n",
              "      <th></th>\n",
              "      <th>Estimator</th>\n",
              "      <th>Mean</th>\n",
              "      <th>Bias</th>\n",
              "      <th>Variance</th>\n",
              "      <th>MSE</th>\n",
              "    </tr>\n",
              "  </thead>\n",
              "  <tbody>\n",
              "    <tr>\n",
              "      <th>0</th>\n",
              "      <td>xbar</td>\n",
              "      <td>1.355415e+05</td>\n",
              "      <td>0.000000e+00</td>\n",
              "      <td>2.991663e+08</td>\n",
              "      <td>2.991663e+08</td>\n",
              "    </tr>\n",
              "    <tr>\n",
              "      <th>1</th>\n",
              "      <td>s-sqd</td>\n",
              "      <td>1.492840e+11</td>\n",
              "      <td>2.991663e+08</td>\n",
              "      <td>8.932145e+19</td>\n",
              "      <td>8.941095e+19</td>\n",
              "    </tr>\n",
              "  </tbody>\n",
              "</table>\n",
              "</div>"
            ],
            "text/plain": [
              "  Estimator          Mean          Bias      Variance           MSE\n",
              "0      xbar  1.355415e+05  0.000000e+00  2.991663e+08  2.991663e+08\n",
              "1     s-sqd  1.492840e+11  2.991663e+08  8.932145e+19  8.941095e+19"
            ]
          },
          "execution_count": 177,
          "metadata": {},
          "output_type": "execute_result"
        }
      ]
    },
    {
      "cell_type": "code",
      "metadata": {
        "id": "sywOv-HEcEZS",
        "outputId": "2128678d-ec60-4c97-fca9-ad90aef67aea"
      },
      "source": [
        "my_dict[100][10000]['bs']"
      ],
      "execution_count": null,
      "outputs": [
        {
          "data": {
            "text/html": [
              "<div>\n",
              "<style scoped>\n",
              "    .dataframe tbody tr th:only-of-type {\n",
              "        vertical-align: middle;\n",
              "    }\n",
              "\n",
              "    .dataframe tbody tr th {\n",
              "        vertical-align: top;\n",
              "    }\n",
              "\n",
              "    .dataframe thead th {\n",
              "        text-align: right;\n",
              "    }\n",
              "</style>\n",
              "<table border=\"1\" class=\"dataframe\">\n",
              "  <thead>\n",
              "    <tr style=\"text-align: right;\">\n",
              "      <th></th>\n",
              "      <th>Estimator</th>\n",
              "      <th>Mean</th>\n",
              "      <th>Bias</th>\n",
              "      <th>Variance</th>\n",
              "      <th>MSE</th>\n",
              "      <th>Sampl_Size</th>\n",
              "      <th>Bs_Resampl</th>\n",
              "    </tr>\n",
              "  </thead>\n",
              "  <tbody>\n",
              "    <tr>\n",
              "      <th>0</th>\n",
              "      <td>xbar</td>\n",
              "      <td>1.197223e+05</td>\n",
              "      <td>3.808246e+02</td>\n",
              "      <td>1.549115e+09</td>\n",
              "      <td>1.549260e+09</td>\n",
              "      <td>100</td>\n",
              "      <td>10000</td>\n",
              "    </tr>\n",
              "    <tr>\n",
              "      <th>1</th>\n",
              "      <td>s-sqd</td>\n",
              "      <td>1.576333e+11</td>\n",
              "      <td>2.101523e+09</td>\n",
              "      <td>1.258074e+22</td>\n",
              "      <td>1.258515e+22</td>\n",
              "      <td>100</td>\n",
              "      <td>10000</td>\n",
              "    </tr>\n",
              "  </tbody>\n",
              "</table>\n",
              "</div>"
            ],
            "text/plain": [
              "  Estimator          Mean          Bias      Variance           MSE  \\\n",
              "0      xbar  1.197223e+05  3.808246e+02  1.549115e+09  1.549260e+09   \n",
              "1     s-sqd  1.576333e+11  2.101523e+09  1.258074e+22  1.258515e+22   \n",
              "\n",
              "   Sampl_Size  Bs_Resampl  \n",
              "0         100       10000  \n",
              "1         100       10000  "
            ]
          },
          "execution_count": 190,
          "metadata": {},
          "output_type": "execute_result"
        }
      ]
    },
    {
      "cell_type": "code",
      "metadata": {
        "id": "4S0dFFiFcEZS",
        "outputId": "4b6f7cad-b92a-4bc4-fc84-00be19a7dc58"
      },
      "source": [
        "my_dict[5000][10000]['bs']"
      ],
      "execution_count": null,
      "outputs": [
        {
          "data": {
            "text/html": [
              "<div>\n",
              "<style scoped>\n",
              "    .dataframe tbody tr th:only-of-type {\n",
              "        vertical-align: middle;\n",
              "    }\n",
              "\n",
              "    .dataframe tbody tr th {\n",
              "        vertical-align: top;\n",
              "    }\n",
              "\n",
              "    .dataframe thead th {\n",
              "        text-align: right;\n",
              "    }\n",
              "</style>\n",
              "<table border=\"1\" class=\"dataframe\">\n",
              "  <thead>\n",
              "    <tr style=\"text-align: right;\">\n",
              "      <th></th>\n",
              "      <th>Estimator</th>\n",
              "      <th>Mean</th>\n",
              "      <th>Bias</th>\n",
              "      <th>Variance</th>\n",
              "      <th>MSE</th>\n",
              "      <th>Sampl_Size</th>\n",
              "      <th>Bs_Resampl</th>\n",
              "    </tr>\n",
              "  </thead>\n",
              "  <tbody>\n",
              "    <tr>\n",
              "      <th>0</th>\n",
              "      <td>xbar</td>\n",
              "      <td>2.515947e+05</td>\n",
              "      <td>1.854298e+02</td>\n",
              "      <td>1.163500e+09</td>\n",
              "      <td>1.163534e+09</td>\n",
              "      <td>5000</td>\n",
              "      <td>10000</td>\n",
              "    </tr>\n",
              "    <tr>\n",
              "      <th>1</th>\n",
              "      <td>s-sqd</td>\n",
              "      <td>5.827514e+12</td>\n",
              "      <td>2.936398e+10</td>\n",
              "      <td>7.494510e+24</td>\n",
              "      <td>7.495372e+24</td>\n",
              "      <td>5000</td>\n",
              "      <td>10000</td>\n",
              "    </tr>\n",
              "  </tbody>\n",
              "</table>\n",
              "</div>"
            ],
            "text/plain": [
              "  Estimator          Mean          Bias      Variance           MSE  \\\n",
              "0      xbar  2.515947e+05  1.854298e+02  1.163500e+09  1.163534e+09   \n",
              "1     s-sqd  5.827514e+12  2.936398e+10  7.494510e+24  7.495372e+24   \n",
              "\n",
              "   Sampl_Size  Bs_Resampl  \n",
              "0        5000       10000  \n",
              "1        5000       10000  "
            ]
          },
          "execution_count": 194,
          "metadata": {},
          "output_type": "execute_result"
        }
      ]
    },
    {
      "cell_type": "code",
      "metadata": {
        "id": "bvBoQa3tcEZS",
        "outputId": "6413b291-5d91-4ff4-8dc6-b6f1ab2092f1"
      },
      "source": [
        "my_dict[5000][10000]['tr']"
      ],
      "execution_count": null,
      "outputs": [
        {
          "data": {
            "text/html": [
              "<div>\n",
              "<style scoped>\n",
              "    .dataframe tbody tr th:only-of-type {\n",
              "        vertical-align: middle;\n",
              "    }\n",
              "\n",
              "    .dataframe tbody tr th {\n",
              "        vertical-align: top;\n",
              "    }\n",
              "\n",
              "    .dataframe thead th {\n",
              "        text-align: right;\n",
              "    }\n",
              "</style>\n",
              "<table border=\"1\" class=\"dataframe\">\n",
              "  <thead>\n",
              "    <tr style=\"text-align: right;\">\n",
              "      <th></th>\n",
              "      <th>Estimator</th>\n",
              "      <th>Mean</th>\n",
              "      <th>Bias</th>\n",
              "      <th>Variance</th>\n",
              "      <th>MSE</th>\n",
              "      <th>Sampl_Size</th>\n",
              "      <th>Bs_Resampl</th>\n",
              "    </tr>\n",
              "  </thead>\n",
              "  <tbody>\n",
              "    <tr>\n",
              "      <th>0</th>\n",
              "      <td>xbar</td>\n",
              "      <td>3.183878e+05</td>\n",
              "      <td>0.000000e+00</td>\n",
              "      <td>1.343580e+10</td>\n",
              "      <td>1.343580e+10</td>\n",
              "      <td>5000</td>\n",
              "      <td>10000</td>\n",
              "    </tr>\n",
              "    <tr>\n",
              "      <th>1</th>\n",
              "      <td>s-sqd</td>\n",
              "      <td>6.716556e+13</td>\n",
              "      <td>1.343580e+10</td>\n",
              "      <td>1.804846e+24</td>\n",
              "      <td>1.805026e+24</td>\n",
              "      <td>5000</td>\n",
              "      <td>10000</td>\n",
              "    </tr>\n",
              "  </tbody>\n",
              "</table>\n",
              "</div>"
            ],
            "text/plain": [
              "  Estimator          Mean          Bias      Variance           MSE  \\\n",
              "0      xbar  3.183878e+05  0.000000e+00  1.343580e+10  1.343580e+10   \n",
              "1     s-sqd  6.716556e+13  1.343580e+10  1.804846e+24  1.805026e+24   \n",
              "\n",
              "   Sampl_Size  Bs_Resampl  \n",
              "0        5000       10000  \n",
              "1        5000       10000  "
            ]
          },
          "execution_count": 197,
          "metadata": {},
          "output_type": "execute_result"
        }
      ]
    },
    {
      "cell_type": "code",
      "metadata": {
        "id": "ecpdA86TcEZT"
      },
      "source": [
        ""
      ],
      "execution_count": null,
      "outputs": []
    }
  ]
}